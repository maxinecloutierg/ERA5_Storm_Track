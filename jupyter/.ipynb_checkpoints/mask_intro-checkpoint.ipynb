{
 "cells": [
  {
   "cell_type": "code",
   "execution_count": 1,
   "id": "viral-interface",
   "metadata": {},
   "outputs": [],
   "source": [
    "# https://www.guillaumedueymes.com/courses/formation_python/15.3-xarray_library/\n",
    "import xarray as xr\n",
    "#import warnings; warnings.filterwarnings(action='ignore')\n",
    "from matplotlib import pyplot as plt"
   ]
  },
  {
   "cell_type": "code",
   "execution_count": 2,
   "id": "exotic-fireplace",
   "metadata": {},
   "outputs": [],
   "source": [
    "# open netcdf file\n",
    "file = '/pampa/picart/Masks/mask_GEM5_ERA5grid'\n",
    "data = xr.open_dataset(file)\n",
    "\n",
    "# export netcdf to dataframe\n",
    "df = data.to_dataframe()\n",
    "\n",
    "# drop index lat lon, but keep columns\n",
    "df = df.reset_index()"
   ]
  },
  {
   "cell_type": "code",
   "execution_count": 5,
   "id": "balanced-pharmacology",
   "metadata": {},
   "outputs": [],
   "source": [
    "dft = df.loc[df.HU == True]"
   ]
  },
  {
   "cell_type": "code",
   "execution_count": 6,
   "id": "sought-winter",
   "metadata": {},
   "outputs": [
    {
     "data": {
      "text/html": [
       "<div>\n",
       "<style scoped>\n",
       "    .dataframe tbody tr th:only-of-type {\n",
       "        vertical-align: middle;\n",
       "    }\n",
       "\n",
       "    .dataframe tbody tr th {\n",
       "        vertical-align: top;\n",
       "    }\n",
       "\n",
       "    .dataframe thead th {\n",
       "        text-align: right;\n",
       "    }\n",
       "</style>\n",
       "<table border=\"1\" class=\"dataframe\">\n",
       "  <thead>\n",
       "    <tr style=\"text-align: right;\">\n",
       "      <th></th>\n",
       "      <th>lat</th>\n",
       "      <th>lon</th>\n",
       "      <th>HU</th>\n",
       "    </tr>\n",
       "  </thead>\n",
       "  <tbody>\n",
       "    <tr>\n",
       "      <th>1352</th>\n",
       "      <td>31.25</td>\n",
       "      <td>291.75</td>\n",
       "      <td>True</td>\n",
       "    </tr>\n",
       "    <tr>\n",
       "      <th>1591</th>\n",
       "      <td>31.50</td>\n",
       "      <td>291.25</td>\n",
       "      <td>True</td>\n",
       "    </tr>\n",
       "    <tr>\n",
       "      <th>1592</th>\n",
       "      <td>31.50</td>\n",
       "      <td>291.50</td>\n",
       "      <td>True</td>\n",
       "    </tr>\n",
       "    <tr>\n",
       "      <th>1593</th>\n",
       "      <td>31.50</td>\n",
       "      <td>291.75</td>\n",
       "      <td>True</td>\n",
       "    </tr>\n",
       "    <tr>\n",
       "      <th>1594</th>\n",
       "      <td>31.50</td>\n",
       "      <td>292.00</td>\n",
       "      <td>True</td>\n",
       "    </tr>\n",
       "    <tr>\n",
       "      <th>...</th>\n",
       "      <td>...</td>\n",
       "      <td>...</td>\n",
       "      <td>...</td>\n",
       "    </tr>\n",
       "    <tr>\n",
       "      <th>34765</th>\n",
       "      <td>66.00</td>\n",
       "      <td>270.25</td>\n",
       "      <td>True</td>\n",
       "    </tr>\n",
       "    <tr>\n",
       "      <th>34997</th>\n",
       "      <td>66.25</td>\n",
       "      <td>268.00</td>\n",
       "      <td>True</td>\n",
       "    </tr>\n",
       "    <tr>\n",
       "      <th>34998</th>\n",
       "      <td>66.25</td>\n",
       "      <td>268.25</td>\n",
       "      <td>True</td>\n",
       "    </tr>\n",
       "    <tr>\n",
       "      <th>34999</th>\n",
       "      <td>66.25</td>\n",
       "      <td>268.50</td>\n",
       "      <td>True</td>\n",
       "    </tr>\n",
       "    <tr>\n",
       "      <th>35000</th>\n",
       "      <td>66.25</td>\n",
       "      <td>268.75</td>\n",
       "      <td>True</td>\n",
       "    </tr>\n",
       "  </tbody>\n",
       "</table>\n",
       "<p>17636 rows × 3 columns</p>\n",
       "</div>"
      ],
      "text/plain": [
       "         lat     lon    HU\n",
       "1352   31.25  291.75  True\n",
       "1591   31.50  291.25  True\n",
       "1592   31.50  291.50  True\n",
       "1593   31.50  291.75  True\n",
       "1594   31.50  292.00  True\n",
       "...      ...     ...   ...\n",
       "34765  66.00  270.25  True\n",
       "34997  66.25  268.00  True\n",
       "34998  66.25  268.25  True\n",
       "34999  66.25  268.50  True\n",
       "35000  66.25  268.75  True\n",
       "\n",
       "[17636 rows x 3 columns]"
      ]
     },
     "execution_count": 6,
     "metadata": {},
     "output_type": "execute_result"
    }
   ],
   "source": [
    "dft"
   ]
  },
  {
   "cell_type": "code",
   "execution_count": null,
   "id": "timely-restoration",
   "metadata": {},
   "outputs": [],
   "source": []
  }
 ],
 "metadata": {
  "kernelspec": {
   "display_name": "Python 3",
   "language": "python",
   "name": "python3"
  },
  "language_info": {
   "codemirror_mode": {
    "name": "ipython",
    "version": 3
   },
   "file_extension": ".py",
   "mimetype": "text/x-python",
   "name": "python",
   "nbconvert_exporter": "python",
   "pygments_lexer": "ipython3",
   "version": "3.8.6"
  }
 },
 "nbformat": 4,
 "nbformat_minor": 5
}
