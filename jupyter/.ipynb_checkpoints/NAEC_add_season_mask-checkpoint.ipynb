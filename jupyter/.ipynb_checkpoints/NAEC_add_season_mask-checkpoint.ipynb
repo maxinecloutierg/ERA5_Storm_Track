{
 "cells": [
  {
   "cell_type": "code",
   "execution_count": null,
   "id": "immune-speech",
   "metadata": {},
   "outputs": [],
   "source": [
    "\"\"\"\"\n",
    "\n",
    "Ce code prend en paramètre un fichier de tracjectoire de cyclones extratropicaux \n",
    "et ajoute deux colonnes : \n",
    "1 - La saison dans laquelle le cyclone a eu lieu\n",
    "    de deux façons différentes : \n",
    "    a - La saison dans laquelle le cyclone a le plus de point de grille \n",
    "    b - La saison est attribuée ligne par ligne, selon la colonne 'datetime'. \n",
    "        Avec cette méthode, une saison peu alors être comptabilisée dans deux \n",
    "        saisons différentes.\n",
    "2 - Un mask qui détermine si le centre du cyclone est dans le domaine du CRCM6 ou non.\n",
    "\n",
    "\"\"\""
   ]
  },
  {
   "cell_type": "code",
   "execution_count": 1,
   "id": "earned-sewing",
   "metadata": {},
   "outputs": [],
   "source": [
    "import pandas as pd\n",
    "import xarray as xr"
   ]
  },
  {
   "cell_type": "code",
   "execution_count": 2,
   "id": "settled-opinion",
   "metadata": {},
   "outputs": [],
   "source": [
    "def add_season(df1) : \n",
    "\n",
    "    \"\"\"\n",
    "    Add a column called 'season' in df that gives the season in which the ETC occured. \n",
    "    If the ETC occured in two or more season, the chosen season will be the one in which \n",
    "    the ETC has the most grid point\n",
    "\n",
    "    DJF : December, January & November\n",
    "    MAM : March, April & May\n",
    "    JJA : June, July & April\n",
    "    SON : September, October and December\n",
    "    \n",
    "    Parameters : \n",
    "        df1 (dataframe) : Dataframe to which we want to add the season column\n",
    "\n",
    "    returns : \n",
    "        df_new : Dataframe with the season column\n",
    "    \"\"\"\n",
    "\n",
    "    seasons = { 'SON': [9, 10, 11], 'DJF': [12, 1, 2], 'MAM': [3, 4, 5], 'JJA': [6, 7, 8] }\n",
    "\n",
    "    # Step 1 : Add 'month' column in dataframe \n",
    "\n",
    "    df1['month'] = (df1.datetime // 10000) % 100\n",
    "\n",
    "    # Step 2 : Group the storms by their ID and count the number of grid point \n",
    "    #          in each month\n",
    "\n",
    "    storm_seasons = df1.groupby(['storm', 'month']).size().unstack().fillna(0)\n",
    "\n",
    "    # Step 3 : Determine the month with the maximum grid points for each storm\n",
    "\n",
    "    storm_seasons['season'] = storm_seasons.idxmax(axis=1)\n",
    "    \n",
    "    # Step 4 : Transform month number into season\n",
    "\n",
    "    \"\"\"\n",
    "    Steps for this line : \n",
    "\n",
    "        1. 'map' function is called on 'season' column to apply a function \n",
    "            on each element in the 'season' column. \n",
    "        2.  Inside 'map' function, there is a lambda function that takes 'month'\n",
    "            as an input.\n",
    "                a.  The function iterates over the 'seasons' dictionnary with \n",
    "                    season for season, months in seasons.items()\n",
    "                b.  For each (season, months) pair in the dictionnary, the \n",
    "                    function checks if the given month is present in the list \n",
    "                    of months. \n",
    "                c.  If a match is found, it returns the season associated with the \n",
    "                    month list in the dictionnary. The (next) function is used to \n",
    "                    retreive the first match encountered. \n",
    "                d.  None is returned of no match is found. \n",
    "        3.  Because the lambda function is used on each value in the 'season' column with \n",
    "            'map', the resulting values are applied back to the 'season' column to change the \n",
    "            month number with the associated season. \n",
    "    \"\"\"\n",
    "    \n",
    "    storm_seasons['season'] = storm_seasons['season'].map(\n",
    "    lambda month: next((season for season, months in seasons.items() if month in months), None)\n",
    "    )\n",
    "    \n",
    "    # Step 5 : Merge the season column into original dataframe\n",
    "    \n",
    "    df_new = df1.merge(storm_seasons['season'], on='storm', how='left')\n",
    "\n",
    "    # Step 6 : Delete month column\n",
    "\n",
    "    df_new = df_new.drop(['month'], axis = 1)\n",
    "    \n",
    "    # Step 7 : move season column next to datetime (TODO)\n",
    "    \n",
    "    #df_new.insert(3, 'season', df_new.pop('season'))\n",
    "\n",
    "    return df_new\n"
   ]
  },
  {
   "cell_type": "code",
   "execution_count": 4,
   "id": "blessed-excitement",
   "metadata": {},
   "outputs": [],
   "source": [
    "# read mask and catalogue files\n",
    "file = '/pampa/picart/Masks/mask_GEM5_ERA5grid'\n",
    "cat = pd.read_csv('~data/ReAnalysis/ERA5/Storm_analysis/NAECv1/NAEC_1979_2020_v1.csv')\n",
    "data = xr.open_dataset(file)\n",
    "\n",
    "# export netcdf to dataframe and drop index\n",
    "mask = data.to_dataframe().reset_index()\n",
    "mask = mask.rename(columns={'lat' : 'latitude', 'lon' : 'longitude'})"
   ]
  },
  {
   "cell_type": "code",
   "execution_count": 5,
   "id": "curious-logistics",
   "metadata": {},
   "outputs": [
    {
     "name": "stderr",
     "output_type": "stream",
     "text": [
      "<ipython-input-2-b54dcfb57a8d>:24: SettingWithCopyWarning: \n",
      "A value is trying to be set on a copy of a slice from a DataFrame.\n",
      "Try using .loc[row_indexer,col_indexer] = value instead\n",
      "\n",
      "See the caveats in the documentation: https://pandas.pydata.org/pandas-docs/stable/user_guide/indexing.html#returning-a-view-versus-a-copy\n",
      "  df1['month'] = (df1.datetime // 10000) % 100\n"
     ]
    }
   ],
   "source": [
    "# Only keep relevant columns\n",
    "cat_rel = cat[['storm', 'lifetime', 'datetime', 'latitude', 'longitude', 'VORS_av08', 'VORSmax']]\n",
    "\n",
    "# Add season column\n",
    "cat_sn = add_season(cat_rel)\n",
    "\n",
    "# Add HU column \n",
    "cat_sn_hu = cat_sn.merge(mask, how='left', on=['latitude', 'longitude'])\n",
    "cat_sn_hu = cat_sn_hu.fillna(value = False)\n",
    "\n",
    "# save csv\n",
    "#cat_sn_hu.to_csv('/pampa/cloutier/storm_tracks/NAEC/NAEC_1979-2020_max_season.csv')"
   ]
  },
  {
   "cell_type": "markdown",
   "id": "accurate-impact",
   "metadata": {},
   "source": [
    "### create season column for each line\n",
    "\n",
    "Create the season column with the month."
   ]
  },
  {
   "cell_type": "code",
   "execution_count": null,
   "id": "exotic-elite",
   "metadata": {},
   "outputs": [],
   "source": [
    "cat = pd.read_csv('/home/data/ReAnalysis/ERA5/Storm_analysis/NAECv1/NAEC_1979_2020_v1.csv')"
   ]
  },
  {
   "cell_type": "code",
   "execution_count": 10,
   "id": "relevant-consumption",
   "metadata": {},
   "outputs": [],
   "source": [
    "# Add month column in catalogue\n",
    "cat['month'] = (cat['datetime'] // 10000) % 100\n",
    "\n",
    "seasons = {'SON': [9, 10, 11], 'DJF': [12, 1, 2], 'MAM': [3, 4, 5], 'JJA': [6, 7, 8]}\n",
    "\n",
    "# get the season based on the month in datetime\n",
    "def get_season(month) : \n",
    "    for season, months in seasons.items() : \n",
    "        if month in months : \n",
    "            return season\n",
    "\n",
    "# Add season according to month\n",
    "cat['season'] = cat['month'].apply(get_season)\n",
    "cat.drop(columns=['month'], inplace=True)"
   ]
  },
  {
   "cell_type": "code",
   "execution_count": 14,
   "id": "scenic-steering",
   "metadata": {},
   "outputs": [],
   "source": [
    "# save file as csv\n",
    "cat.to_csv('/pampa/cloutier/storm_tracks/NAEC/NAEC_1979-2020_month_to_season.csv',index=False)"
   ]
  },
  {
   "cell_type": "code",
   "execution_count": null,
   "id": "exterior-browser",
   "metadata": {},
   "outputs": [],
   "source": []
  }
 ],
 "metadata": {
  "kernelspec": {
   "display_name": "Python 3",
   "language": "python",
   "name": "python3"
  },
  "language_info": {
   "codemirror_mode": {
    "name": "ipython",
    "version": 3
   },
   "file_extension": ".py",
   "mimetype": "text/x-python",
   "name": "python",
   "nbconvert_exporter": "python",
   "pygments_lexer": "ipython3",
   "version": "3.8.6"
  }
 },
 "nbformat": 4,
 "nbformat_minor": 5
}
