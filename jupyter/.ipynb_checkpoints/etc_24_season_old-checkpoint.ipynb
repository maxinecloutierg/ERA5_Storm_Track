{
 "cells": [
  {
   "cell_type": "code",
   "execution_count": 1,
   "id": "designed-backing",
   "metadata": {},
   "outputs": [],
   "source": [
    "import pandas as pd\n",
    "import math\n",
    "import matplotlib.pyplot as plt\n",
    "from mpl_toolkits.basemap import Basemap\n",
    "import numpy as np\n",
    "import xarray as xr"
   ]
  },
  {
   "cell_type": "code",
   "execution_count": 2,
   "id": "least-louisiana",
   "metadata": {},
   "outputs": [],
   "source": [
    "# open catalogue dataset\n",
    "df = pd.read_csv('/home/data/ReAnalysis/ERA5/Storm_analysis/NAECv1/NAEC_1979_2020_v1.csv')\n",
    "\n",
    "# open netcdf mask file\n",
    "file = '/pampa/picart/Masks/mask_GEM5_ERA5grid'\n",
    "data = xr.open_dataset(file)\n",
    "\n",
    "# export netcdf to dataframe\n",
    "mask = data.to_dataframe()\n",
    "\n",
    "# drop index lat lon, but keep columns\n",
    "mask = mask.reset_index()\n",
    "\n",
    "# keep in mask values where HU = true\n",
    "maskT = mask.loc[mask.HU != False]"
   ]
  },
  {
   "cell_type": "markdown",
   "id": "cosmetic-earthquake",
   "metadata": {},
   "source": [
    "### Keep storms that were active in NNA for at least 24h"
   ]
  },
  {
   "cell_type": "code",
   "execution_count": 1,
   "id": "divine-brazil",
   "metadata": {},
   "outputs": [
    {
     "ename": "NameError",
     "evalue": "name 'pd' is not defined",
     "output_type": "error",
     "traceback": [
      "\u001b[0;31m---------------------------------------------------------------------------\u001b[0m",
      "\u001b[0;31mNameError\u001b[0m                                 Traceback (most recent call last)",
      "\u001b[0;32m<ipython-input-1-249746c1d4ff>\u001b[0m in \u001b[0;36m<module>\u001b[0;34m\u001b[0m\n\u001b[1;32m      4\u001b[0m \u001b[0;31m# but within the nna region.\u001b[0m\u001b[0;34m\u001b[0m\u001b[0;34m\u001b[0m\u001b[0;34m\u001b[0m\u001b[0m\n\u001b[1;32m      5\u001b[0m \u001b[0;34m\u001b[0m\u001b[0m\n\u001b[0;32m----> 6\u001b[0;31m \u001b[0mdf24\u001b[0m \u001b[0;34m=\u001b[0m \u001b[0mpd\u001b[0m\u001b[0;34m.\u001b[0m\u001b[0mDataFrame\u001b[0m\u001b[0;34m(\u001b[0m\u001b[0mcolumns\u001b[0m\u001b[0;34m=\u001b[0m\u001b[0mdf\u001b[0m\u001b[0;34m.\u001b[0m\u001b[0mcolumns\u001b[0m\u001b[0;34m)\u001b[0m\u001b[0;34m\u001b[0m\u001b[0;34m\u001b[0m\u001b[0m\n\u001b[0m\u001b[1;32m      7\u001b[0m \u001b[0mmask_lat\u001b[0m \u001b[0;34m=\u001b[0m \u001b[0mmaskT\u001b[0m\u001b[0;34m[\u001b[0m\u001b[0;34m'lat'\u001b[0m\u001b[0;34m]\u001b[0m\u001b[0;34m\u001b[0m\u001b[0;34m\u001b[0m\u001b[0m\n\u001b[1;32m      8\u001b[0m \u001b[0mmask_lon\u001b[0m \u001b[0;34m=\u001b[0m \u001b[0mmaskT\u001b[0m\u001b[0;34m[\u001b[0m\u001b[0;34m'lon'\u001b[0m\u001b[0;34m]\u001b[0m\u001b[0;34m\u001b[0m\u001b[0;34m\u001b[0m\u001b[0m\n",
      "\u001b[0;31mNameError\u001b[0m: name 'pd' is not defined"
     ]
    }
   ],
   "source": [
    "# Create a new dataframe to store the storms that were active \n",
    "# for more than 24h in the CRCM6 domain\n",
    "# also creates a new column called lifetime nna that is basically the same as lifetime, \n",
    "# but within the nna region.\n",
    "\n",
    "df24 = pd.DataFrame(columns=df.columns)\n",
    "mask_lat = maskT['lat']\n",
    "mask_lon = maskT['lon']\n",
    "\n",
    "# Iterate through each storm in the original dataframe\n",
    "for storm_id in df['storm'].unique():\n",
    "    storm_data = df[df['storm'] == storm_id]\n",
    "    count_domain = 0\n",
    "    nna_lifetime = []\n",
    "    \n",
    "    # Check if storm location is within CRCM6 domain\n",
    "    # If so, count the number of grid points that are within that domain.\n",
    "    # If we have more than 24 points in the domain, the storm was active\n",
    "    # for more than 24 hours in the domain.\n",
    "    for index, row in storm_data.iterrows():\n",
    "        lat = row['latitude']\n",
    "        lon = row['longitude']\n",
    "        \n",
    "        if any((mask_lat == lat) & (mask_lon == lon)):\n",
    "            count_domain += 1\n",
    "            nna_lifetime.append(count_domain)\n",
    "        else:\n",
    "            nna_lifetime.append(0)\n",
    "    \n",
    "    storm_data['nna lifetime'] = nna_lifetime\n",
    "    \n",
    "    if count_domain >= 24:\n",
    "        df24 = df24.append(storm_data)\n",
    "            \n",
    "print(len(df24.groupby(['storm'])))\n",
    "\n",
    "# Save df24 to a CSV file\n",
    "df24.to_csv('/pampa/cloutier/etc_24_nna.csv', index=False)"
   ]
  },
  {
   "cell_type": "markdown",
   "id": "lasting-specification",
   "metadata": {},
   "source": [
    "### Extract ETC DataFrame for specific season"
   ]
  },
  {
   "cell_type": "code",
   "execution_count": 30,
   "id": "endless-block",
   "metadata": {},
   "outputs": [
    {
     "name": "stdout",
     "output_type": "stream",
     "text": [
      "       lifetime  datetime  latitude  longitude  MSLPmin  VORSmax  VORS_av02  \\\n",
      "storm                                                                         \n",
      "1            28        28        28         28       28       28         28   \n",
      "3            32        32        32         32       32       32         32   \n",
      "13           87        87        87         87       87       87         87   \n",
      "26          125       125       125        125      125      125        125   \n",
      "32           66        66        66         66       66       66         66   \n",
      "...         ...       ...       ...        ...      ...      ...        ...   \n",
      "24589        92        92        92         92       92       92         92   \n",
      "24591       114       114       114        114      114      114        114   \n",
      "24599        43        43        43         43       43       43         43   \n",
      "24601       166       166       166        166      166      166        166   \n",
      "24602       124       124       124        124      124      124        124   \n",
      "\n",
      "       VORS_av04  VORS_av06  VORS_av08  ...  PR98_ex04  PR98_ex06  PR98_ex08  \\\n",
      "storm                                   ...                                    \n",
      "1             28         28         28  ...         28         28         28   \n",
      "3             32         32         32  ...         32         32         32   \n",
      "13            87         87         87  ...         87         87         87   \n",
      "26           125        125        125  ...        125        125        125   \n",
      "32            66         66         66  ...         66         66         66   \n",
      "...          ...        ...        ...  ...        ...        ...        ...   \n",
      "24589         92         92         92  ...         92         92         92   \n",
      "24591        114        114        114  ...        114        114        114   \n",
      "24599         43         43         43  ...         43         43         43   \n",
      "24601        166        166        166  ...        166        166        166   \n",
      "24602        124        124        124  ...        124        124        124   \n",
      "\n",
      "       PR98_ex10  PR99_ex02  PR99_ex04  PR99_ex06  PR99_ex08  PR99_ex10   \\\n",
      "storm                                                                      \n",
      "1             28         28         28         28         28          28   \n",
      "3             32         32         32         32         32          32   \n",
      "13            87         87         87         87         87          87   \n",
      "26           125        125        125        125        125         125   \n",
      "32            66         66         66         66         66          66   \n",
      "...          ...        ...        ...        ...        ...         ...   \n",
      "24589         92         92         92         92         92          92   \n",
      "24591        114        114        114        114        114         114   \n",
      "24599         43         43         43         43         43          43   \n",
      "24601        166        166        166        166        166         166   \n",
      "24602        124        124        124        124        124         124   \n",
      "\n",
      "       nna_lifetime  \n",
      "storm                \n",
      "1                28  \n",
      "3                32  \n",
      "13               87  \n",
      "26              125  \n",
      "32               66  \n",
      "...             ...  \n",
      "24589            92  \n",
      "24591           114  \n",
      "24599            43  \n",
      "24601           166  \n",
      "24602           124  \n",
      "\n",
      "[6543 rows x 87 columns]\n"
     ]
    }
   ],
   "source": [
    "df24 = pd.read_csv('/pampa/cloutier/etc_24_nna.csv')"
   ]
  },
  {
   "cell_type": "code",
   "execution_count": 31,
   "id": "extraordinary-intention",
   "metadata": {},
   "outputs": [],
   "source": [
    "# extract month from datetime with (df.datetime//10000)%100 and apply conditionnal selection according the the needed months\n",
    "\n",
    "#    def get_season\n",
    "#    ARGS m1, m2, m3 (int) : The 3 wanted months \n",
    "#    RETURNS DataFrame of all the ETCs within the wanted season\n",
    "def get_season(m1, m2, m3) :\n",
    "    return df24.loc[((df24.datetime//10000)%100 == m1) \n",
    "                    | ((df24.datetime//10000)%100 == m2) \n",
    "                    | ((df24.datetime//10000)%100 == m3)]\n",
    "\n",
    "jja = get_season(6,7,8)\n",
    "son = get_season(9,10,11)\n",
    "djf = get_season(12,1,2)\n",
    "mam = get_season(3,4,5)"
   ]
  },
  {
   "cell_type": "code",
   "execution_count": 32,
   "id": "literary-organizer",
   "metadata": {},
   "outputs": [],
   "source": [
    "# create csv files for each season\n",
    "\n",
    "djf.to_csv('/pampa/cloutier/etc_24_nna_djf.csv', index = False)\n",
    "mam.to_csv('/pampa/cloutier/etc_24_nna_mam.csv', index = False)\n",
    "jja.to_csv('/pampa/cloutier/etc_24_nna_jja.csv', index = False)\n",
    "son.to_csv('/pampa/cloutier/etc_24_nna_son.csv', index = False)"
   ]
  },
  {
   "cell_type": "code",
   "execution_count": null,
   "id": "intellectual-indiana",
   "metadata": {},
   "outputs": [],
   "source": []
  }
 ],
 "metadata": {
  "kernelspec": {
   "display_name": "Python 3",
   "language": "python",
   "name": "python3"
  },
  "language_info": {
   "codemirror_mode": {
    "name": "ipython",
    "version": 3
   },
   "file_extension": ".py",
   "mimetype": "text/x-python",
   "name": "python",
   "nbconvert_exporter": "python",
   "pygments_lexer": "ipython3",
   "version": "3.8.6"
  }
 },
 "nbformat": 4,
 "nbformat_minor": 5
}
