{
 "cells": [
  {
   "cell_type": "code",
   "execution_count": 1,
   "id": "marked-iceland",
   "metadata": {},
   "outputs": [],
   "source": [
    "import pandas as pd\n",
    "import xarray as xr\n",
    "import numpy as np\n",
    "\n",
    "# matplotlib import\n",
    "from matplotlib import pyplot as plt\n",
    "import matplotlib.colors as colors\n",
    "from matplotlib.colors import ListedColormap"
   ]
  },
  {
   "cell_type": "code",
   "execution_count": 2,
   "id": "nonprofit-newark",
   "metadata": {},
   "outputs": [],
   "source": [
    "# import NAEC catalogue and filtered ETCs\n",
    "\n",
    "naec = pd.read_csv(\"~data/ReAnalysis/ERA5/Storm_analysis/NAECv1/NAEC_1979_2020_v1.csv\")\n",
    "fetc = pd.read_csv(\"/pampa/cloutier/storm_tracks/filtered/etc24_consec_v3.csv\")"
   ]
  },
  {
   "cell_type": "markdown",
   "id": "balanced-decimal",
   "metadata": {},
   "source": [
    "#### Determine if we have to use filtered ETCs of the whole catalogue\n",
    "\n",
    "Mean values in Chen : 11.9 for 850WS and 5.3 for 10WS\n",
    "\n",
    "Std values in Chen : 3.1 for 850WS and 1.4 for 10WS\n",
    "\n",
    "We seem to be closer to these values with filtered ETCs, even if the numbers are still higher then Chen's. \n",
    "This could be explained by the CRCM6 domain that covers a larger region of the Atlantic, where the wind speed is necessarily higher than over the contient. "
   ]
  },
  {
   "cell_type": "code",
   "execution_count": 8,
   "id": "sapphire-globe",
   "metadata": {},
   "outputs": [
    {
     "name": "stdout",
     "output_type": "stream",
     "text": [
      "all-season 10WS mean for naec :  7.594919450099831 \n",
      "all season 10WS mean for filtered etcs :  6.981885029643026\n",
      "\n",
      "all-season 850WS mean for naec :  11.83350925635511 \n",
      "all season 850WS mean for filtered etcs :  12.338695422075926\n",
      "\n",
      "all-season 10WS std for naec :  3.008702694496027 \n",
      "all season 10WS std for filtered etcs :  2.880929923943801\n",
      "\n",
      "all-season 850WS std for naec :  4.314828169603386 \n",
      "all season 850WS std for filtered etcs :  4.192320536756636\n"
     ]
    }
   ],
   "source": [
    "# get mean and std 10WS_av08 and 850WS_av08 for catalogue and filtered etcs\n",
    "mean_10_naec = naec['10WS_av08'].mean()\n",
    "mean_10_fetc = fetc['10WS_av08'].mean()\n",
    "\n",
    "mean_85_naec = naec['85WS_av08'].mean()\n",
    "mean_85_fetc = fetc['85WS_av08'].mean()\n",
    "\n",
    "std_10_naec = naec['10WS_av08'].std()\n",
    "std_10_fetc = fetc['10WS_av08'].std()\n",
    "\n",
    "std_85_naec = naec['85WS_av08'].std()\n",
    "std_85_fetc = fetc['85WS_av08'].std()\n",
    "\n",
    "print('all-season 10WS mean for naec : ', mean_10_naec, \n",
    "      '\\nall season 10WS mean for filtered etcs : ', mean_10_fetc)\n",
    "print('\\nall-season 850WS mean for naec : ', mean_85_naec, \n",
    "      '\\nall season 850WS mean for filtered etcs : ', mean_85_fetc)\n",
    "\n",
    "print('\\nall-season 10WS std for naec : ', std_10_naec, \n",
    "      '\\nall season 10WS std for filtered etcs : ', std_10_fetc)\n",
    "print('\\nall-season 850WS std for naec : ', std_85_naec, \n",
    "      '\\nall season 850WS std for filtered etcs : ', std_85_fetc)"
   ]
  },
  {
   "cell_type": "code",
   "execution_count": null,
   "id": "indian-circulation",
   "metadata": {},
   "outputs": [],
   "source": []
  }
 ],
 "metadata": {
  "kernelspec": {
   "display_name": "Python 3",
   "language": "python",
   "name": "python3"
  },
  "language_info": {
   "codemirror_mode": {
    "name": "ipython",
    "version": 3
   },
   "file_extension": ".py",
   "mimetype": "text/x-python",
   "name": "python",
   "nbconvert_exporter": "python",
   "pygments_lexer": "ipython3",
   "version": "3.8.6"
  }
 },
 "nbformat": 4,
 "nbformat_minor": 5
}
