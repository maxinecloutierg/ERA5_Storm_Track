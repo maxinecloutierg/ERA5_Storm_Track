{
 "cells": [
  {
   "cell_type": "code",
   "execution_count": 1,
   "id": "derived-travel",
   "metadata": {},
   "outputs": [],
   "source": [
    "import pandas as pd"
   ]
  },
  {
   "cell_type": "code",
   "execution_count": 10,
   "id": "seasonal-contrast",
   "metadata": {},
   "outputs": [],
   "source": [
    "df = pd.read_csv('/pampa/cloutier/storm_tracks/NAEC/NAEC_1979-2020_max_season.csv', index_col=0)"
   ]
  },
  {
   "cell_type": "raw",
   "id": "lovely-reliance",
   "metadata": {},
   "source": [
    "avg_vors_max = "
   ]
  },
  {
   "cell_type": "code",
   "execution_count": null,
   "id": "pleasant-fleet",
   "metadata": {},
   "outputs": [],
   "source": []
  }
 ],
 "metadata": {
  "kernelspec": {
   "display_name": "Python 3",
   "language": "python",
   "name": "python3"
  },
  "language_info": {
   "codemirror_mode": {
    "name": "ipython",
    "version": 3
   },
   "file_extension": ".py",
   "mimetype": "text/x-python",
   "name": "python",
   "nbconvert_exporter": "python",
   "pygments_lexer": "ipython3",
   "version": "3.8.6"
  }
 },
 "nbformat": 4,
 "nbformat_minor": 5
}
