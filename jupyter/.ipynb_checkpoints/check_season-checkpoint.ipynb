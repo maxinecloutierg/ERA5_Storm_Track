{
 "cells": [
  {
   "cell_type": "code",
   "execution_count": 44,
   "id": "posted-skating",
   "metadata": {},
   "outputs": [],
   "source": [
    "import pandas as pd\n",
    "import numpy as np\n",
    "import matplotlib.pyplot as plt\n",
    "import statistics\n",
    "import xarray as xr"
   ]
  },
  {
   "cell_type": "code",
   "execution_count": 69,
   "id": "recognized-saskatchewan",
   "metadata": {},
   "outputs": [],
   "source": [
    "# dataframe with season column in which the ETC spent the more time\n",
    "tracks = pd.read_csv('/pampa/cloutier/storm_tracks/NAEC/NAEC_1979-2020_max_season.csv')"
   ]
  },
  {
   "cell_type": "code",
   "execution_count": 70,
   "id": "necessary-monday",
   "metadata": {},
   "outputs": [],
   "source": [
    "total_storm = len(tracks[tracks['HU'] == True].groupby(['storm']).mean())"
   ]
  },
  {
   "cell_type": "code",
   "execution_count": 71,
   "id": "prompt-murder",
   "metadata": {},
   "outputs": [],
   "source": [
    "# Storm count for each season in CRCM6 domain\n",
    "djf = tracks[(tracks['season'] == 'DJF') & (tracks['HU'] == True)].groupby(['storm']).mean()\n",
    "jja = tracks[(tracks['season'] == 'JJA') & (tracks['HU'] == True)].groupby(['storm']).mean()\n",
    "son = tracks[(tracks['season'] == 'SON') & (tracks['HU'] == True)].groupby(['storm']).mean()\n",
    "mam = tracks[(tracks['season'] == 'MAM') & (tracks['HU'] == True)].groupby(['storm']).mean()"
   ]
  },
  {
   "cell_type": "code",
   "execution_count": 72,
   "id": "patient-robin",
   "metadata": {},
   "outputs": [
    {
     "name": "stdout",
     "output_type": "stream",
     "text": [
      "jja :  22.99869096767697\n",
      "son :  25.13342060215487\n",
      "djf :  26.482730842815428\n",
      "mam :  25.385157587352737\n"
     ]
    }
   ],
   "source": [
    "# % of storm for each season \n",
    "print('jja : ', (len(jja) / total_storm) * 100)\n",
    "print('son : ', (len(son) / total_storm) * 100)\n",
    "print('djf : ', (len(djf) / total_storm) * 100)\n",
    "print('mam : ', (len(mam) / total_storm) * 100)"
   ]
  },
  {
   "cell_type": "code",
   "execution_count": 75,
   "id": "pressed-smooth",
   "metadata": {},
   "outputs": [],
   "source": [
    "# Only keep relevant column\n",
    "df = tracks[['storm', 'season', 'HU', 'VORS_av08']]"
   ]
  },
  {
   "cell_type": "code",
   "execution_count": 76,
   "id": "structured-problem",
   "metadata": {},
   "outputs": [
    {
     "data": {
      "text/html": [
       "<div>\n",
       "<style scoped>\n",
       "    .dataframe tbody tr th:only-of-type {\n",
       "        vertical-align: middle;\n",
       "    }\n",
       "\n",
       "    .dataframe tbody tr th {\n",
       "        vertical-align: top;\n",
       "    }\n",
       "\n",
       "    .dataframe thead th {\n",
       "        text-align: right;\n",
       "    }\n",
       "</style>\n",
       "<table border=\"1\" class=\"dataframe\">\n",
       "  <thead>\n",
       "    <tr style=\"text-align: right;\">\n",
       "      <th></th>\n",
       "      <th>storm</th>\n",
       "      <th>season</th>\n",
       "      <th>HU</th>\n",
       "      <th>VORS_av08</th>\n",
       "    </tr>\n",
       "  </thead>\n",
       "  <tbody>\n",
       "    <tr>\n",
       "      <th>0</th>\n",
       "      <td>1</td>\n",
       "      <td>DJF</td>\n",
       "      <td>True</td>\n",
       "      <td>0.000016</td>\n",
       "    </tr>\n",
       "    <tr>\n",
       "      <th>1</th>\n",
       "      <td>1</td>\n",
       "      <td>DJF</td>\n",
       "      <td>True</td>\n",
       "      <td>0.000017</td>\n",
       "    </tr>\n",
       "    <tr>\n",
       "      <th>2</th>\n",
       "      <td>1</td>\n",
       "      <td>DJF</td>\n",
       "      <td>True</td>\n",
       "      <td>0.000018</td>\n",
       "    </tr>\n",
       "    <tr>\n",
       "      <th>3</th>\n",
       "      <td>1</td>\n",
       "      <td>DJF</td>\n",
       "      <td>True</td>\n",
       "      <td>0.000018</td>\n",
       "    </tr>\n",
       "    <tr>\n",
       "      <th>4</th>\n",
       "      <td>1</td>\n",
       "      <td>DJF</td>\n",
       "      <td>True</td>\n",
       "      <td>0.000019</td>\n",
       "    </tr>\n",
       "    <tr>\n",
       "      <th>...</th>\n",
       "      <td>...</td>\n",
       "      <td>...</td>\n",
       "      <td>...</td>\n",
       "      <td>...</td>\n",
       "    </tr>\n",
       "    <tr>\n",
       "      <th>1833492</th>\n",
       "      <td>24604</td>\n",
       "      <td>DJF</td>\n",
       "      <td>False</td>\n",
       "      <td>0.000025</td>\n",
       "    </tr>\n",
       "    <tr>\n",
       "      <th>1833493</th>\n",
       "      <td>24604</td>\n",
       "      <td>DJF</td>\n",
       "      <td>False</td>\n",
       "      <td>0.000025</td>\n",
       "    </tr>\n",
       "    <tr>\n",
       "      <th>1833494</th>\n",
       "      <td>24604</td>\n",
       "      <td>DJF</td>\n",
       "      <td>False</td>\n",
       "      <td>0.000025</td>\n",
       "    </tr>\n",
       "    <tr>\n",
       "      <th>1833495</th>\n",
       "      <td>24604</td>\n",
       "      <td>DJF</td>\n",
       "      <td>False</td>\n",
       "      <td>0.000025</td>\n",
       "    </tr>\n",
       "    <tr>\n",
       "      <th>1833496</th>\n",
       "      <td>24604</td>\n",
       "      <td>DJF</td>\n",
       "      <td>False</td>\n",
       "      <td>0.000025</td>\n",
       "    </tr>\n",
       "  </tbody>\n",
       "</table>\n",
       "<p>1833497 rows × 4 columns</p>\n",
       "</div>"
      ],
      "text/plain": [
       "         storm season     HU  VORS_av08\n",
       "0            1    DJF   True   0.000016\n",
       "1            1    DJF   True   0.000017\n",
       "2            1    DJF   True   0.000018\n",
       "3            1    DJF   True   0.000018\n",
       "4            1    DJF   True   0.000019\n",
       "...        ...    ...    ...        ...\n",
       "1833492  24604    DJF  False   0.000025\n",
       "1833493  24604    DJF  False   0.000025\n",
       "1833494  24604    DJF  False   0.000025\n",
       "1833495  24604    DJF  False   0.000025\n",
       "1833496  24604    DJF  False   0.000025\n",
       "\n",
       "[1833497 rows x 4 columns]"
      ]
     },
     "execution_count": 76,
     "metadata": {},
     "output_type": "execute_result"
    }
   ],
   "source": [
    "df"
   ]
  },
  {
   "cell_type": "code",
   "execution_count": 78,
   "id": "approximate-burst",
   "metadata": {},
   "outputs": [],
   "source": [
    "tracks['month'] = (tracks.datetime // 10000) % 100"
   ]
  },
  {
   "cell_type": "code",
   "execution_count": 90,
   "id": "documentary-updating",
   "metadata": {},
   "outputs": [
    {
     "name": "stdout",
     "output_type": "stream",
     "text": [
      "       Unnamed: 0  lifetime      datetime   latitude   longitude  VORS_av08  \\\n",
      "storm                                                                         \n",
      "524       38351.5     102.5  1.979120e+09  53.375000  209.250000   0.000015   \n",
      "525       38440.5      86.5  1.979120e+09  59.625000  213.656250   0.000008   \n",
      "532       38918.5     126.5  1.979120e+09  68.408537  342.932927   0.000040   \n",
      "1136      82541.5      32.5  1.980120e+09  46.125000  275.250000   0.000014   \n",
      "1141      82849.5     162.5  1.980120e+09  63.173611  275.877315   0.000023   \n",
      "...           ...       ...           ...        ...         ...        ...   \n",
      "23949   1784531.5      40.5  2.019120e+09  41.682692  272.298077   0.000040   \n",
      "23950   1784598.0      54.0  2.019120e+09  39.135714  353.707143   0.000021   \n",
      "24540   1828799.5      30.5  2.020120e+09  50.437500  198.562500   0.000041   \n",
      "24541   1828841.5      40.5  2.020120e+09  70.187500  269.781250   0.000017   \n",
      "24547   1829285.0     140.0  2.020120e+09  31.770548  338.667808   0.000024   \n",
      "\n",
      "             HU  month  \n",
      "storm                   \n",
      "524    0.000000   12.0  \n",
      "525    0.000000   12.0  \n",
      "532    0.000000   12.0  \n",
      "1136   1.000000   12.0  \n",
      "1141   1.000000   12.0  \n",
      "...         ...    ...  \n",
      "23949  0.884615   12.0  \n",
      "23950  0.000000   12.0  \n",
      "24540  0.000000   12.0  \n",
      "24541  0.000000   12.0  \n",
      "24547  0.000000   12.0  \n",
      "\n",
      "[107 rows x 8 columns]\n"
     ]
    }
   ],
   "source": [
    "p = tracks[(tracks['month'] > 11) & (tracks['season'] == 'SON')]\n",
    "print(p.groupby(['storm']).mean())"
   ]
  },
  {
   "cell_type": "code",
   "execution_count": 101,
   "id": "aging-fifteen",
   "metadata": {},
   "outputs": [],
   "source": [
    "# Get the month count for each storm and each season\n",
    "month_count = tracks.groupby(['storm', 'season', 'month'], as_index = False).size()"
   ]
  },
  {
   "cell_type": "code",
   "execution_count": 110,
   "id": "southwest-symphony",
   "metadata": {},
   "outputs": [
    {
     "name": "stdout",
     "output_type": "stream",
     "text": [
      "0        False\n",
      "1        False\n",
      "2        False\n",
      "3        False\n",
      "4        False\n",
      "         ...  \n",
      "27054    False\n",
      "27055    False\n",
      "27056    False\n",
      "27057    False\n",
      "27058    False\n",
      "Length: 27059, dtype: bool\n"
     ]
    }
   ],
   "source": [
    "# see if a storm appears in multiple months\n",
    "dup = month_count.duplicated(subset=['storm'])\n",
    "print(dup)"
   ]
  },
  {
   "cell_type": "code",
   "execution_count": 103,
   "id": "completed-values",
   "metadata": {},
   "outputs": [],
   "source": [
    "# Get the month that has the biggest size for each season\n",
    "month_max = month_count.groupby(['storm', 'season', 'month'], as_index = False).max()"
   ]
  },
  {
   "cell_type": "code",
   "execution_count": 119,
   "id": "horizontal-empire",
   "metadata": {},
   "outputs": [
    {
     "name": "stdout",
     "output_type": "stream",
     "text": [
      "storm\n",
      "54       2\n",
      "55       2\n",
      "56       2\n",
      "57       2\n",
      "59       2\n",
      "        ..\n",
      "24541    2\n",
      "24542    2\n",
      "24545    2\n",
      "24546    2\n",
      "24547    2\n",
      "Length: 2455, dtype: int64\n"
     ]
    }
   ],
   "source": [
    "# See which seasons appear more than once (appear in many months)\n",
    "storm_counts = month_max.groupby('storm').size()\n",
    "duplicate_storms = storm_counts[storm_counts > 1]\n",
    "print(duplicate_storms)"
   ]
  },
  {
   "cell_type": "code",
   "execution_count": 122,
   "id": "improving-fields",
   "metadata": {},
   "outputs": [],
   "source": [
    "# Only keep the biggest size (the month that has the biggest size)\n",
    "month_max = month_count.loc[month_count.groupby('storm')['size'].idxmax()]"
   ]
  },
  {
   "cell_type": "code",
   "execution_count": 127,
   "id": "convinced-relevance",
   "metadata": {},
   "outputs": [
    {
     "name": "stdout",
     "output_type": "stream",
     "text": [
      "Empty DataFrame\n",
      "Columns: [storm, season, month, size]\n",
      "Index: [] Empty DataFrame\n",
      "Columns: [storm, season, month, size]\n",
      "Index: [] Empty DataFrame\n",
      "Columns: [storm, season, month, size]\n",
      "Index: [] Empty DataFrame\n",
      "Columns: [storm, season, month, size]\n",
      "Index: []\n"
     ]
    }
   ],
   "source": [
    "# Check if all max month count falls in the right season\n",
    "\n",
    "error_djf = month_max.loc[(month_max.season == 'DJF') & (month_max.month > 2) & (month_max.month < 12) ]\n",
    "error_jja = month_max.loc[(month_max.season == 'JJA') & (month_max.month > 8) & (month_max.month < 6) ]\n",
    "error_son = month_max.loc[(month_max.season == 'SON') & (month_max.month > 11) & (month_max.month < 9) ]\n",
    "error_mam = month_max.loc[(month_max.season == 'MAM') & (month_max.month > 5) & (month_max.month < 3) ]\n",
    "\n",
    "print(error_djf, error_mam, error_jja, error_son)"
   ]
  },
  {
   "cell_type": "code",
   "execution_count": null,
   "id": "smart-accent",
   "metadata": {},
   "outputs": [],
   "source": []
  }
 ],
 "metadata": {
  "kernelspec": {
   "display_name": "Python 3",
   "language": "python",
   "name": "python3"
  },
  "language_info": {
   "codemirror_mode": {
    "name": "ipython",
    "version": 3
   },
   "file_extension": ".py",
   "mimetype": "text/x-python",
   "name": "python",
   "nbconvert_exporter": "python",
   "pygments_lexer": "ipython3",
   "version": "3.8.6"
  }
 },
 "nbformat": 4,
 "nbformat_minor": 5
}
