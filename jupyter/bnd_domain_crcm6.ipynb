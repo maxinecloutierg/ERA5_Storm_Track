{
 "cells": [
  {
   "cell_type": "code",
   "execution_count": 55,
   "id": "indirect-blend",
   "metadata": {},
   "outputs": [],
   "source": [
    "import pandas as pd\n",
    "import netCDF4 \n",
    "import numpy as np"
   ]
  },
  {
   "cell_type": "code",
   "execution_count": 56,
   "id": "pending-angel",
   "metadata": {},
   "outputs": [],
   "source": [
    "mask = netCDF4.Dataset('/pampa/picart/Masks/mask_GEM5_ERA5grid','r')"
   ]
  },
  {
   "cell_type": "code",
   "execution_count": 57,
   "id": "naval-brazilian",
   "metadata": {},
   "outputs": [],
   "source": [
    "lon = mask.variables['lon'][:]\n",
    "lat = mask.variables['lat'][:]\n",
    "HU = mask.variables['HU'][:]"
   ]
  },
  {
   "cell_type": "code",
   "execution_count": 58,
   "id": "stretch-behalf",
   "metadata": {},
   "outputs": [],
   "source": [
    "# mask to store the boundary layer\n",
    "bnd = np.zeros_like(HU, dtype=bool)"
   ]
  },
  {
   "cell_type": "code",
   "execution_count": 60,
   "id": "nearby-numbers",
   "metadata": {},
   "outputs": [],
   "source": [
    "# For each HU == True, we only want to keep the ones that have \n",
    "# at least one neighbour with HU == False \n",
    "# (Thats is how we know that the grid point is at the limit of the domain)\n",
    "\n",
    "# On itère au travers tous les points de grille\n",
    "for i in range(HU.shape[0]):\n",
    "    for j in range(HU.shape[1]):\n",
    "        if HU[i,j] : \n",
    "            has_false_neighbor = False\n",
    "            neighbors = [(i-1, j), (i+1, j), (i, j-1), (i, j+1)]  \n",
    "            for neighbor_i, neighbor_j in neighbors:\n",
    "                if (neighbor_i >= 0 and neighbor_i < HU.shape[0] and\n",
    "                    neighbor_j >= 0 and neighbor_j < HU.shape[1] and\n",
    "                    not HU[neighbor_i, neighbor_j]):\n",
    "                    has_false_neighbor = True\n",
    "                    break\n",
    "                if has_false_neighbor : \n",
    "                    bnd[i,j] = True\n",
    "                \n",
    "            \n",
    "# Create a new netCDF file for the filtered data\n",
    "nc_filtered = netCDF4.Dataset('/home/cloutier/crcm6_bnd.nc', 'w', format='NETCDF4')\n",
    "\n",
    "# Define the dimensions in the new netCDF file\n",
    "nc_filtered.createDimension('lon', len(lon))\n",
    "nc_filtered.createDimension('lat', len(lat))\n",
    "\n",
    "# Create variables in the new netCDF file\n",
    "lon_var = nc_filtered.createVariable('lon', lon.dtype, ('lon',))\n",
    "lat_var = nc_filtered.createVariable('lat', lat.dtype, ('lat',))\n",
    "HU_var = nc_filtered.createVariable('HU', HU.dtype, ('lat', 'lon'))\n",
    "\n",
    "# Assign data to the variables in the new netCDF file\n",
    "lon_var[:] = lon\n",
    "lat_var[:] = lat\n",
    "HU_var[:] = bnd\n",
    "\n",
    "# Save and close the new netCDF file\n",
    "nc_filtered.close()\n",
    "\n",
    "# Close the original netCDF file\n",
    "# mask.close()"
   ]
  },
  {
   "cell_type": "code",
   "execution_count": 61,
   "id": "political-brick",
   "metadata": {},
   "outputs": [],
   "source": [
    "ds = netCDF4.Dataset('/home/cloutier/crcm6_bnd.nc', 'r')"
   ]
  },
  {
   "cell_type": "code",
   "execution_count": 62,
   "id": "boxed-furniture",
   "metadata": {},
   "outputs": [
    {
     "data": {
      "text/plain": [
       "<class 'netCDF4._netCDF4.Dataset'>\n",
       "root group (NETCDF4 data model, file format HDF5):\n",
       "    dimensions(sizes): lon(241), lat(161)\n",
       "    variables(dimensions): float64 lon(lon), float64 lat(lat), int8 HU(lat, lon)\n",
       "    groups: "
      ]
     },
     "execution_count": 62,
     "metadata": {},
     "output_type": "execute_result"
    }
   ],
   "source": [
    "ds"
   ]
  },
  {
   "cell_type": "code",
   "execution_count": null,
   "id": "meaningful-feeling",
   "metadata": {},
   "outputs": [],
   "source": []
  }
 ],
 "metadata": {
  "kernelspec": {
   "display_name": "Python 3",
   "language": "python",
   "name": "python3"
  },
  "language_info": {
   "codemirror_mode": {
    "name": "ipython",
    "version": 3
   },
   "file_extension": ".py",
   "mimetype": "text/x-python",
   "name": "python",
   "nbconvert_exporter": "python",
   "pygments_lexer": "ipython3",
   "version": "3.8.6"
  }
 },
 "nbformat": 4,
 "nbformat_minor": 5
}
