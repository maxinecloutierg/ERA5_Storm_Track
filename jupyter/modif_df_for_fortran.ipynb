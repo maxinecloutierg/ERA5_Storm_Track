{
 "cells": [
  {
   "cell_type": "code",
   "execution_count": 50,
   "id": "welcome-singing",
   "metadata": {},
   "outputs": [
    {
     "data": {
      "text/plain": [
       "'\\nModify etc24_consec_v4.csv file in order for it to be compatible with \\n/home/chen/codes/cir_disttr/Track_density_all_seasons.f90, which is the code\\nthat Tin Chen used to compute the track density data. \\n'"
      ]
     },
     "execution_count": 50,
     "metadata": {},
     "output_type": "execute_result"
    }
   ],
   "source": [
    "\"\"\"\n",
    "Modify etc24_consec_v4.csv file in order for it to be compatible with \n",
    "/home/chen/codes/cir_disttr/Track_density_all_seasons.f90, which is the code\n",
    "that Tin Chen used to compute the track density data. \n",
    "\"\"\""
   ]
  },
  {
   "cell_type": "code",
   "execution_count": 51,
   "id": "micro-provider",
   "metadata": {},
   "outputs": [],
   "source": [
    "import pandas as pd"
   ]
  },
  {
   "cell_type": "code",
   "execution_count": 52,
   "id": "veterinary-compiler",
   "metadata": {},
   "outputs": [],
   "source": [
    "df = pd.read_csv(\"/pampa/cloutier/etc24_consec_v4.csv\")"
   ]
  },
  {
   "cell_type": "code",
   "execution_count": 53,
   "id": "binary-reggae",
   "metadata": {},
   "outputs": [],
   "source": [
    "# Only keep relevant columns\n",
    "\n",
    "df_rel = df[['storm', 'lifetime', 'datetime', 'latitude', 'longitude']]"
   ]
  },
  {
   "cell_type": "code",
   "execution_count": 54,
   "id": "stunning-major",
   "metadata": {},
   "outputs": [],
   "source": [
    "# save dataframe in txt\n",
    "fileout = '/pampa/cloutier/ERA5_stormtrack_filtered.txt'\n",
    "\n",
    "with open(fileout, 'a') as f : \n",
    "    df_string = df_rel.to_string(index = False)\n",
    "    f.write(df_string)"
   ]
  },
  {
   "cell_type": "code",
   "execution_count": 56,
   "id": "severe-tunisia",
   "metadata": {},
   "outputs": [
    {
     "data": {
      "text/plain": [
       "lifetime    556\n",
       "dtype: int64"
      ]
     },
     "execution_count": 56,
     "metadata": {},
     "output_type": "execute_result"
    }
   ],
   "source": [
    "\"\"\"\n",
    "Modify NAEC catalogue file in order for it to be compatible with \n",
    "/home/chen/codes/cir_disttr/Track_density_all_seasons.f90, which is the code\n",
    "that Tin Chen used to compute the track density data. \n",
    "\"\"\""
   ]
  },
  {
   "cell_type": "code",
   "execution_count": 66,
   "id": "wrapped-symbol",
   "metadata": {},
   "outputs": [],
   "source": [
    "cat = pd.read_csv('/home/data/ReAnalysis/ERA5/Storm_analysis/NAECv1/NAEC_1979_2020_v1.csv')"
   ]
  },
  {
   "cell_type": "code",
   "execution_count": 67,
   "id": "uniform-closure",
   "metadata": {},
   "outputs": [],
   "source": [
    "# Only keep relevant columns\n",
    "cat_rel = cat[['storm', 'lifetime', 'datetime', 'latitude', 'longitude']]\n",
    "\n",
    "# save dataframe in txt\n",
    "fileout = '/pampa/cloutier/ERA5_all_stormtracks.txt'\n",
    "\n",
    "with open(fileout, 'a') as f : \n",
    "    cat_string = cat_rel.to_string(index = False)\n",
    "    f.write(cat_string)"
   ]
  },
  {
   "cell_type": "code",
   "execution_count": 68,
   "id": "urban-princeton",
   "metadata": {},
   "outputs": [
    {
     "data": {
      "text/html": [
       "<div>\n",
       "<style scoped>\n",
       "    .dataframe tbody tr th:only-of-type {\n",
       "        vertical-align: middle;\n",
       "    }\n",
       "\n",
       "    .dataframe tbody tr th {\n",
       "        vertical-align: top;\n",
       "    }\n",
       "\n",
       "    .dataframe thead th {\n",
       "        text-align: right;\n",
       "    }\n",
       "</style>\n",
       "<table border=\"1\" class=\"dataframe\">\n",
       "  <thead>\n",
       "    <tr style=\"text-align: right;\">\n",
       "      <th></th>\n",
       "      <th>storm</th>\n",
       "      <th>lifetime</th>\n",
       "      <th>datetime</th>\n",
       "      <th>latitude</th>\n",
       "      <th>longitude</th>\n",
       "    </tr>\n",
       "  </thead>\n",
       "  <tbody>\n",
       "    <tr>\n",
       "      <th>0</th>\n",
       "      <td>1</td>\n",
       "      <td>1</td>\n",
       "      <td>1979010101</td>\n",
       "      <td>41.25</td>\n",
       "      <td>275.75</td>\n",
       "    </tr>\n",
       "    <tr>\n",
       "      <th>1</th>\n",
       "      <td>1</td>\n",
       "      <td>2</td>\n",
       "      <td>1979010102</td>\n",
       "      <td>41.75</td>\n",
       "      <td>276.50</td>\n",
       "    </tr>\n",
       "    <tr>\n",
       "      <th>2</th>\n",
       "      <td>1</td>\n",
       "      <td>3</td>\n",
       "      <td>1979010103</td>\n",
       "      <td>42.50</td>\n",
       "      <td>277.25</td>\n",
       "    </tr>\n",
       "    <tr>\n",
       "      <th>3</th>\n",
       "      <td>1</td>\n",
       "      <td>4</td>\n",
       "      <td>1979010104</td>\n",
       "      <td>43.25</td>\n",
       "      <td>278.25</td>\n",
       "    </tr>\n",
       "    <tr>\n",
       "      <th>4</th>\n",
       "      <td>1</td>\n",
       "      <td>5</td>\n",
       "      <td>1979010105</td>\n",
       "      <td>43.75</td>\n",
       "      <td>279.00</td>\n",
       "    </tr>\n",
       "    <tr>\n",
       "      <th>...</th>\n",
       "      <td>...</td>\n",
       "      <td>...</td>\n",
       "      <td>...</td>\n",
       "      <td>...</td>\n",
       "      <td>...</td>\n",
       "    </tr>\n",
       "    <tr>\n",
       "      <th>1833492</th>\n",
       "      <td>24604</td>\n",
       "      <td>29</td>\n",
       "      <td>2020123119</td>\n",
       "      <td>32.00</td>\n",
       "      <td>315.00</td>\n",
       "    </tr>\n",
       "    <tr>\n",
       "      <th>1833493</th>\n",
       "      <td>24604</td>\n",
       "      <td>30</td>\n",
       "      <td>2020123120</td>\n",
       "      <td>31.75</td>\n",
       "      <td>315.00</td>\n",
       "    </tr>\n",
       "    <tr>\n",
       "      <th>1833494</th>\n",
       "      <td>24604</td>\n",
       "      <td>31</td>\n",
       "      <td>2020123121</td>\n",
       "      <td>31.75</td>\n",
       "      <td>315.00</td>\n",
       "    </tr>\n",
       "    <tr>\n",
       "      <th>1833495</th>\n",
       "      <td>24604</td>\n",
       "      <td>32</td>\n",
       "      <td>2020123122</td>\n",
       "      <td>31.75</td>\n",
       "      <td>315.00</td>\n",
       "    </tr>\n",
       "    <tr>\n",
       "      <th>1833496</th>\n",
       "      <td>24604</td>\n",
       "      <td>33</td>\n",
       "      <td>2020123123</td>\n",
       "      <td>31.50</td>\n",
       "      <td>315.00</td>\n",
       "    </tr>\n",
       "  </tbody>\n",
       "</table>\n",
       "<p>1833497 rows × 5 columns</p>\n",
       "</div>"
      ],
      "text/plain": [
       "         storm  lifetime    datetime  latitude  longitude\n",
       "0            1         1  1979010101     41.25     275.75\n",
       "1            1         2  1979010102     41.75     276.50\n",
       "2            1         3  1979010103     42.50     277.25\n",
       "3            1         4  1979010104     43.25     278.25\n",
       "4            1         5  1979010105     43.75     279.00\n",
       "...        ...       ...         ...       ...        ...\n",
       "1833492  24604        29  2020123119     32.00     315.00\n",
       "1833493  24604        30  2020123120     31.75     315.00\n",
       "1833494  24604        31  2020123121     31.75     315.00\n",
       "1833495  24604        32  2020123122     31.75     315.00\n",
       "1833496  24604        33  2020123123     31.50     315.00\n",
       "\n",
       "[1833497 rows x 5 columns]"
      ]
     },
     "execution_count": 68,
     "metadata": {},
     "output_type": "execute_result"
    }
   ],
   "source": [
    "cat_rel"
   ]
  },
  {
   "cell_type": "code",
   "execution_count": 65,
   "id": "breeding-carpet",
   "metadata": {},
   "outputs": [
    {
     "data": {
      "text/plain": [
       "lifetime    556\n",
       "dtype: int64"
      ]
     },
     "execution_count": 65,
     "metadata": {},
     "output_type": "execute_result"
    }
   ],
   "source": []
  },
  {
   "cell_type": "code",
   "execution_count": null,
   "id": "excited-madagascar",
   "metadata": {},
   "outputs": [],
   "source": []
  }
 ],
 "metadata": {
  "kernelspec": {
   "display_name": "Python 3",
   "language": "python",
   "name": "python3"
  },
  "language_info": {
   "codemirror_mode": {
    "name": "ipython",
    "version": 3
   },
   "file_extension": ".py",
   "mimetype": "text/x-python",
   "name": "python",
   "nbconvert_exporter": "python",
   "pygments_lexer": "ipython3",
   "version": "3.8.6"
  }
 },
 "nbformat": 4,
 "nbformat_minor": 5
}
