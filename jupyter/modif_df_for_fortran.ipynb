{
 "cells": [
  {
   "cell_type": "markdown",
   "id": "animated-feature",
   "metadata": {},
   "source": [
    "Modify `/pampa/cloutier/ERA5_storm_tracks/filtered/filtered_NAEC_1979-2020_with_seasons.csv` file in order for it to be compatible with \n",
    "`/home/chen/codes/cir_disttr/Track_density_all_seasons.f90`, which is the code\n",
    "that Ting-Chen used to compute the track density data. "
   ]
  },
  {
   "cell_type": "code",
   "execution_count": 51,
   "id": "micro-provider",
   "metadata": {},
   "outputs": [],
   "source": [
    "import pandas as pd"
   ]
  },
  {
   "cell_type": "code",
   "execution_count": 52,
   "id": "veterinary-compiler",
   "metadata": {},
   "outputs": [],
   "source": [
    "df = pd.read_csv(\"/pampa/cloutier/etc24_consec_v4.csv\")"
   ]
  },
  {
   "cell_type": "code",
   "execution_count": 53,
   "id": "binary-reggae",
   "metadata": {},
   "outputs": [],
   "source": [
    "# Only keep relevant columns\n",
    "\n",
    "df_rel = df[['storm', 'lifetime', 'datetime', 'latitude', 'longitude']]"
   ]
  },
  {
   "cell_type": "code",
   "execution_count": 54,
   "id": "stunning-major",
   "metadata": {},
   "outputs": [],
   "source": [
    "# save dataframe in txt\n",
    "fileout = '/pampa/cloutier/ERA5_stormtrack_filtered.txt'\n",
    "\n",
    "with open(fileout, 'a') as f : \n",
    "    df_string = df_rel.to_string(index = False)\n",
    "    f.write(df_string)"
   ]
  },
  {
   "cell_type": "markdown",
   "id": "incident-water",
   "metadata": {},
   "source": [
    "### With the catalogue"
   ]
  },
  {
   "cell_type": "code",
   "execution_count": 66,
   "id": "wrapped-symbol",
   "metadata": {},
   "outputs": [],
   "source": [
    "cat = pd.read_csv('/home/data/ReAnalysis/ERA5/Storm_analysis/NAECv1/NAEC_1979_2020_v1.csv')"
   ]
  },
  {
   "cell_type": "code",
   "execution_count": 67,
   "id": "uniform-closure",
   "metadata": {},
   "outputs": [],
   "source": [
    "# Only keep relevant columns\n",
    "cat_rel = cat[['storm', 'lifetime', 'datetime', 'latitude', 'longitude']]\n",
    "\n",
    "# save dataframe in txt\n",
    "fileout = '/pampa/cloutier/ERA5_all_stormtracks.txt'\n",
    "\n",
    "with open(fileout, 'a') as f : \n",
    "    cat_string = cat_rel.to_string(index = False)\n",
    "    f.write(cat_string)"
   ]
  }
 ],
 "metadata": {
  "kernelspec": {
   "display_name": "Python 3",
   "language": "python",
   "name": "python3"
  },
  "language_info": {
   "codemirror_mode": {
    "name": "ipython",
    "version": 3
   },
   "file_extension": ".py",
   "mimetype": "text/x-python",
   "name": "python",
   "nbconvert_exporter": "python",
   "pygments_lexer": "ipython3",
   "version": "3.8.6"
  }
 },
 "nbformat": 4,
 "nbformat_minor": 5
}
