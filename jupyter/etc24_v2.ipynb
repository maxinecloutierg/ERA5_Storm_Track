{
 "cells": [
  {
   "cell_type": "code",
   "execution_count": 29,
   "id": "emerging-growing",
   "metadata": {},
   "outputs": [],
   "source": [
    "import pandas as pd\n",
    "import xarray as xr\n",
    "import numpy as np\n",
    "import netCDF4 as nc"
   ]
  },
  {
   "cell_type": "code",
   "execution_count": 88,
   "id": "dried-measurement",
   "metadata": {},
   "outputs": [],
   "source": [
    "# open netcdf mask file\n",
    "file = '/pampa/picart/Masks/mask_GEM5_ERA5grid'\n",
    "data = xr.open_dataset(file)\n",
    "\n",
    "# export netcdf to dataframe and drop index\n",
    "mk = data.to_dataframe().reset_index()\n",
    "\n",
    "# Only keep grid points coordinates that are within CRCM6 domain\n",
    "mk = mk.loc[mk.HU == True]"
   ]
  },
  {
   "cell_type": "code",
   "execution_count": 123,
   "id": "banner-geneva",
   "metadata": {},
   "outputs": [
    {
     "name": "stdout",
     "output_type": "stream",
     "text": [
      "(161, 241)\n"
     ]
    }
   ],
   "source": [
    "import netCDF4 as nc\n",
    "\n",
    "# Open the NetCDF file\n",
    "filename = '/pampa/picart/Masks/mask_GEM5_ERA5grid'\n",
    "ncfile = nc.Dataset(filename, 'r')\n",
    "\n",
    "# Read latitude and longitude variables\n",
    "lat = ncfile.variables['lat'][:]\n",
    "lon = ncfile.variables['lon'][:]\n",
    "\n",
    "# Close the NetCDF file\n",
    "ncfile.close()\n",
    "\n",
    "# Create ix and jx\n",
    "ix = lon.shape[0]\n",
    "jx = lat.shape[0]\n",
    "\n",
    "# Recreate latD and lonD arrays\n",
    "latD, lonD = np.meshgrid(lon, lat)\n",
    "print(latD.shape)\n"
   ]
  },
  {
   "cell_type": "code",
   "execution_count": 48,
   "id": "frozen-wagon",
   "metadata": {},
   "outputs": [],
   "source": [
    "def find_boundary_limits(latS, lonS, latD, lonD, ix, jx):\n",
    "    sdiffA = 100.0  # random start threshold\n",
    "    sdiffB = 100.0  # random start threshold\n",
    "    mindis = 100.0  # random start threshold\n",
    "    Ai = 0\n",
    "    Aj = 0\n",
    "    Bi = 0\n",
    "    Bj = 0\n",
    "\n",
    "    # IN A:\n",
    "    for i in range(ix):\n",
    "        diff = abs(latS - latD[i][0])  # in degrees\n",
    "        if diff < sdiffA:\n",
    "            sdiffA = diff\n",
    "            Ai = i\n",
    "            Aj = 0\n",
    "        dis = ((latS - latD[i][0])**2 + (lonS - lonD[i][0])**2)**0.5\n",
    "        if dis < mindis:\n",
    "            mindis = dis\n",
    "\n",
    "    for j in range(jx):\n",
    "        diff = abs(latS - latD[0][j])\n",
    "        if diff < sdiffA:\n",
    "            sdiffA = diff\n",
    "            Ai = 0\n",
    "            Aj = j\n",
    "        dis = ((latS - latD[0][j])**2 + (lonS - lonD[0][j])**2)**0.5\n",
    "        if dis < mindis:\n",
    "            mindis = dis\n",
    "\n",
    "    # IN B:\n",
    "    for i in range(ix):\n",
    "        diff = abs(latS - latD[i][jx-1])  # in degrees\n",
    "        if diff < sdiffB:\n",
    "            sdiffB = diff\n",
    "            Bi = i\n",
    "            Bj = jx-1\n",
    "        dis = ((latS - latD[i][jx-1])**2 + (lonS - lonD[i][jx-1])**2)**0.5\n",
    "        if dis < mindis:\n",
    "            mindis = dis\n",
    "\n",
    "    for j in range(jx):\n",
    "        diff = abs(latS - latD[ix-1][j])\n",
    "        if diff < sdiffB:\n",
    "            sdiffB = diff\n",
    "            Bi = ix-1\n",
    "            Bj = j\n",
    "        dis = ((latS - latD[ix-1][j])**2 + (lonS - lonD[ix-1][j])**2)**0.5\n",
    "        if dis < mindis:\n",
    "            mindis = dis\n",
    "\n",
    "    return Ai, Aj, Bi, Bj, mindis\n"
   ]
  },
  {
   "cell_type": "code",
   "execution_count": null,
   "id": "powered-covering",
   "metadata": {},
   "outputs": [],
   "source": []
  },
  {
   "cell_type": "code",
   "execution_count": 52,
   "id": "jewish-quality",
   "metadata": {},
   "outputs": [
    {
     "name": "stdout",
     "output_type": "stream",
     "text": [
      "[213.75 213.25 212.5  ... 223.25 223.25 223.5 ]\n"
     ]
    }
   ],
   "source": [
    "sdiffA = 100.0  # random start threshold\n",
    "sdiffB = 100.0  # random start threshold\n",
    "mindis = 100.0  # random start threshold\n",
    "Ai = 0\n",
    "Aj = 0\n",
    "Bi = 0\n",
    "Bj = 0\n",
    "\n",
    "# IN A:\n",
    "#for i in range(ix):\n",
    "diff = abs(latS - latD[1][0])  # in degrees\n",
    "print(diff)\n"
   ]
  },
  {
   "cell_type": "code",
   "execution_count": null,
   "id": "similar-midnight",
   "metadata": {},
   "outputs": [],
   "source": []
  }
 ],
 "metadata": {
  "kernelspec": {
   "display_name": "Python 3",
   "language": "python",
   "name": "python3"
  },
  "language_info": {
   "codemirror_mode": {
    "name": "ipython",
    "version": 3
   },
   "file_extension": ".py",
   "mimetype": "text/x-python",
   "name": "python",
   "nbconvert_exporter": "python",
   "pygments_lexer": "ipython3",
   "version": "3.8.6"
  }
 },
 "nbformat": 4,
 "nbformat_minor": 5
}
