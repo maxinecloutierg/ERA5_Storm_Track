{
 "cells": [
  {
   "cell_type": "markdown",
   "id": "juvenile-survival",
   "metadata": {},
   "source": [
    "Idée derrière le code : \n",
    "Itérer au travers les centres de tempête. Pour chaque point de grille, on va chercher tous les points de grille sur la grille virtuelle de 0.5x0.5 qui sont dans un rayon de 250km.  Pour ces points de grille, on aditionne la valeur de VORSmax et on garde en  mémoire le nombre de point de grille qui ont été trouvés. \n",
    "\n",
    "Ensuite, on prend tous les points de grille, et on divise la vorticité totale qui a été sommée \n",
    "et on le divise par le nombre de tempêtes qui ont été trouvés pour obtenir la moyenne. "
   ]
  },
  {
   "cell_type": "code",
   "execution_count": 2,
   "id": "light-adobe",
   "metadata": {},
   "outputs": [],
   "source": [
    "import pandas as pd\n",
    "import numpy as np\n",
    "import xarray as xr"
   ]
  },
  {
   "cell_type": "code",
   "execution_count": 3,
   "id": "protecting-tractor",
   "metadata": {},
   "outputs": [],
   "source": [
    "# Read catalogue with season column\n",
    "df = pd.read_csv('/pampa/cloutier/storm_tracks/NAEC/NAEC_1979-2020_max_season.csv', index_col=0)"
   ]
  },
  {
   "cell_type": "code",
   "execution_count": 4,
   "id": "patient-thirty",
   "metadata": {},
   "outputs": [],
   "source": [
    "def calc_dist(lat1, lon1, lat2, lon2) : \n",
    "\n",
    "    # Earth's radius in meters\n",
    "    r = 6371.22E3\n",
    "    \n",
    "    rlat1 = np.radians(lat1)\n",
    "    rlon1 = np.radians(lon1)\n",
    "    rlat2 = np.radians(lat2)\n",
    "    rlon2 = np.radians(lon2)\n",
    "    \n",
    "    # Haversine formula\n",
    "    dlat = abs(rlat2 - rlat1)\n",
    "    dlon = abs(rlon2 - rlon1)\n",
    "    a = np.sin(dlat / 2)**2 + np.cos(rlat1) * np.cos(rlat2) * np.sin(dlon / 2)**2\n",
    "    c = 2 * np.arctan2(np.sqrt(a), np.sqrt(1 - a))\n",
    "    dist12 = r * c \n",
    "    \n",
    "    return dist12"
   ]
  },
  {
   "cell_type": "code",
   "execution_count": null,
   "id": "coated-greeting",
   "metadata": {},
   "outputs": [],
   "source": [
    "# create 2d arrays so we can refer to season, latitude and longitude with \n",
    "# storm and lifetime \n",
    "\n",
    "# Step 1: Create a dictionary to store the storm information, including lifetimes, latitude, longitude, and season\n",
    "storms_info = {}\n",
    "\n",
    "for _, row in df.iterrows():\n",
    "    storm = row['storm']\n",
    "    lifetime = row['lifetime']\n",
    "    season_value = row['season']\n",
    "    lat_value = row['latitude']\n",
    "    lon_value = row['longitude']\n",
    "    \n",
    "    if storm not in storms_info:\n",
    "        storms_info[storm] = {'lifetimes': [], 'latitudes': [], 'longitudes': [], 'seasons': []}\n",
    "    \n",
    "    storms_info[storm]['lifetimes'].append(lifetime)\n",
    "    storms_info[storm]['latitudes'].append(lat_value)\n",
    "    storms_info[storm]['longitudes'].append(lon_value)\n",
    "    storms_info[storm]['seasons'].append(season_value)\n",
    "\n",
    "# Step 2: Get unique storm names\n",
    "unique_storms = df['storm'].unique()\n",
    "\n",
    "# Step 3: Find the maximum lifetime for each storm and use it to define the dimensions of the arrays\n",
    "max_lifetimes = [max(storms_info[storm]['lifetimes']) for storm in unique_storms]\n",
    "num_storms = len(unique_storms)\n",
    "max_lifetime = max(max_lifetimes)\n",
    "\n",
    "# Step 4: Create the arrays using the maximum lifetime\n",
    "season = np.empty((num_storms, max_lifetime), dtype=object)\n",
    "lat = np.empty((num_storms, max_lifetime), dtype=float)\n",
    "lon = np.empty((num_storms, max_lifetime), dtype=float)\n",
    "season.fill('')  # Initialize the array with empty strings\n",
    "lat.fill(np.nan)\n",
    "lon.fill(np.nan)\n",
    "\n",
    "# Step 5: Fill the arrays with the corresponding values\n",
    "for i, storm in enumerate(unique_storms):\n",
    "    lifetimes = storms_info[storm]['lifetimes']\n",
    "    latitudes = storms_info[storm]['latitudes']\n",
    "    longitudes = storms_info[storm]['longitudes']\n",
    "    seasons = storms_info[storm]['seasons']\n",
    "    \n",
    "    for j, lifetime in enumerate(lifetimes):\n",
    "        lat[i, j] = latitudes[j]\n",
    "        lon[i, j] = longitudes[j]\n",
    "        season[i, j] = seasons[j]"
   ]
  }
 ],
 "metadata": {
  "kernelspec": {
   "display_name": "Python 3",
   "language": "python",
   "name": "python3"
  },
  "language_info": {
   "codemirror_mode": {
    "name": "ipython",
    "version": 3
   },
   "file_extension": ".py",
   "mimetype": "text/x-python",
   "name": "python",
   "nbconvert_exporter": "python",
   "pygments_lexer": "ipython3",
   "version": "3.8.6"
  }
 },
 "nbformat": 4,
 "nbformat_minor": 5
}
