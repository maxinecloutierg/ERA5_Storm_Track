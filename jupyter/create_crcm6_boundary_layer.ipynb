{
 "cells": [
  {
   "cell_type": "markdown",
   "id": "tired-pension",
   "metadata": {},
   "source": [
    "This code takes an ERA5/CRCM6 mask and creates a csv file with the boundary layer of the CRCM6 domain. \n",
    "\n",
    "**Method** :  \n",
    "A grid point in the mask file defines the domain's boundary if HU == True **and** there is at least one neighbouring grid point where HU == False"
   ]
  },
  {
   "cell_type": "code",
   "execution_count": 2,
   "id": "western-operations",
   "metadata": {},
   "outputs": [],
   "source": [
    "import pandas as pd\n",
    "import xarray as xr"
   ]
  },
  {
   "cell_type": "code",
   "execution_count": 11,
   "id": "finnish-budget",
   "metadata": {},
   "outputs": [],
   "source": [
    "# Read netcdf mask file\n",
    "# HU is the mask column. \n",
    "# HU == True : ERA5 grid point is within CRCM6 domain\n",
    "\n",
    "file = '/pampa/picart/Masks/mask_GEM5_ERA5grid'\n",
    "data = xr.open_dataset(file)\n",
    "mask = data.to_dataframe().reset_index()\n",
    "\n",
    "# Define the radius of neighboring grid points to consider\n",
    "# ERA5 resolution : radius = 0.25\n",
    "radius = 0.25\n",
    "\n",
    "# Initialize an empty list to store the filtered grid points\n",
    "filtered_points = []\n",
    "\n",
    "# Step 1 : Iterate through each grid point in the dataframe\n",
    "for i, row in mask.iterrows():\n",
    "    if row['HU'] == True:\n",
    "        lat = row['lat']\n",
    "        lon = row['lon']\n",
    "\n",
    "        # Step 2 : Find the neighboring grid points within the specified radius\n",
    "        neighbors = mask[\n",
    "            (mask['lat'] >= lat - radius) & (mask['lat'] <= lat + radius) &\n",
    "            (mask['lon'] >= lon - radius) & (mask['lon'] <= lon + radius)\n",
    "        ]\n",
    "\n",
    "        # Step 3 : Check if there is at least one false 'HU' value in the neighbors\n",
    "        if neighbors['HU'].isin([False]).any():\n",
    "            filtered_points.append(row)\n",
    "\n",
    "# Create a new dataframe with the filtered grid points\n",
    "filtered_mask = pd.DataFrame(filtered_points)\n",
    "\n",
    "#filtered_mask.to_csv('/pampa/cloutier/outline_crcm6_domain.csv')"
   ]
  },
  {
   "cell_type": "code",
   "execution_count": null,
   "id": "extra-aspect",
   "metadata": {},
   "outputs": [],
   "source": []
  }
 ],
 "metadata": {
  "kernelspec": {
   "display_name": "Python 3",
   "language": "python",
   "name": "python3"
  },
  "language_info": {
   "codemirror_mode": {
    "name": "ipython",
    "version": 3
   },
   "file_extension": ".py",
   "mimetype": "text/x-python",
   "name": "python",
   "nbconvert_exporter": "python",
   "pygments_lexer": "ipython3",
   "version": "3.8.6"
  }
 },
 "nbformat": 4,
 "nbformat_minor": 5
}
