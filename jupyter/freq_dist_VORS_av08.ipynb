{
 "cells": [
  {
   "cell_type": "markdown",
   "id": "pretty-singer",
   "metadata": {},
   "source": [
    "Ce code prend en paramètre le catalogue NAEC filtré et calcule la distribution de fréquence des vorticités moyennées autour de 800km et sur la durée de vie de chaque tempête dans le domaine de CRCM6. Pour plus de détails, voir fichier \"methods\" (voir Maxine Cloutier - Gervais)."
   ]
  },
  {
   "cell_type": "code",
   "execution_count": 2,
   "id": "above-vitamin",
   "metadata": {},
   "outputs": [],
   "source": [
    "import pandas as pd\n",
    "import cartopy.crs as ccrs\n",
    "import cartopy.feature as cfeature\n",
    "import numpy as np                       \n",
    "from datetime import datetime\n",
    "from scipy.stats import spearmanr, pearsonr\n",
    "\n",
    "from matplotlib.patches import Patch\n",
    "import matplotlib as mpl\n",
    "import matplotlib.pyplot as plt            \n",
    "import matplotlib.colors as colors\n",
    "from matplotlib import gridspec,rc"
   ]
  },
  {
   "cell_type": "code",
   "execution_count": 3,
   "id": "bridal-savings",
   "metadata": {},
   "outputs": [],
   "source": [
    "# Get filtered catalogue\n",
    "df = pd.read_csv('/pampa/cloutier/storm_tracks/filtered/etc24_consec_season.csv', index_col=0)"
   ]
  },
  {
   "cell_type": "code",
   "execution_count": 12,
   "id": "unexpected-chicken",
   "metadata": {},
   "outputs": [],
   "source": [
    "seasons = ['JJA', 'SON', 'DJF', 'MAM']\n",
    "var = 'VORS_av08'\n",
    "n_var = 'norm_' + var\n",
    "\n",
    "# Only keep cyclone centers within CRCM6 subdomain\n",
    "df_true = df.loc[df.HU == True].copy()\n",
    "df_true = df_true.groupby(['storm', 'season'])[var].mean().reset_index()\n",
    "\n",
    "# get mean value and sigma over the crcm6 lifetime (where crcm6 mask is True)\n",
    "mean_vors = df_true[var].mean()\n",
    "std_vors = df_true[var].std()\n",
    "\n",
    "# normalize the vorticity\n",
    "df_true[n_var] = (df_true[var] - mean_vors) / std_vors\n",
    "\n",
    "# separate seasons \n",
    "df_seasons = {}\n",
    "for s in seasons : \n",
    "    arr_name = f\"df_{s}\"\n",
    "    df_seasons[arr_name] = df_true.loc[df_true.season == s]\n",
    "\n",
    "# create numpy arrays with the normalized vorticities of each season \n",
    "nvor_seasons = {}\n",
    "for s in seasons : \n",
    "    vor_name = f'vors_{s}'\n",
    "    df_name = f\"df_{s}\"\n",
    "    nvor_seasons[vor_name] = df_seasons[df_name][n_var].to_numpy() "
   ]
  },
  {
   "cell_type": "code",
   "execution_count": 29,
   "id": "perceived-certificate",
   "metadata": {},
   "outputs": [],
   "source": [
    "# Count the number of values for each season between each bin\n",
    "\n",
    "# normalized bins\n",
    "bins = [-2, -1.5, -1, -0.5, 0, 0.5, 1, 1.5, 2, 2.5, 3, 3.5]\n",
    "bin_count = {}\n",
    "\n",
    "# \n",
    "for s in seasons : \n",
    "    \n",
    "    arr_name = f'bin_count_{s}'\n",
    "    vor_name = vor_name = f'vors_{s}'\n",
    "    vor_len = len(nvor_seasons[vor_name])\n",
    "    \n",
    "    # initialize bin_count at 0 for each season\n",
    "    bin_count[s] = np.zeros(len(bins) + 1)\n",
    "    \n",
    "    # count number of values between each bins \n",
    "    for value in nvor_seasons[vor_name] : \n",
    "        for i in range(len(bins) + 1) : \n",
    "            if i == 0 and value < bins[i] : \n",
    "                bin_count[s][0] += 1\n",
    "                break\n",
    "            elif bins[i-1] <= value < bins[i] : \n",
    "                bin_count[s][i]+= 1\n",
    "                break"
   ]
  },
  {
   "cell_type": "code",
   "execution_count": 46,
   "id": "western-funeral",
   "metadata": {},
   "outputs": [
    {
     "data": {
      "image/png": "[encoded data removed]",
      "text/plain": [
       "<Figure size 828x216 with 1 Axes>"
      ]
     },
     "metadata": {
      "needs_background": "light"
     },
     "output_type": "display_data"
    }
   ],
   "source": [
    "seasons = ['JJA', 'SON', 'DJF', 'MAM']\n",
    "colors = ['crimson', 'orange', 'royalblue', 'g']\n",
    "a = 0.8\n",
    "gaps = [-0.1,-0.2,-0.3,-0.4] # gap between bars\n",
    "fs = 16\n",
    "\n",
    "meanvors = mean_vors\n",
    "sigmvors = std_vors\n",
    "length = len(df_true)\n",
    "\n",
    "fig = plt.figure(figsize=(11.5,3))\n",
    "gs = gridspec.GridSpec(1,1)\n",
    "ax=plt.subplot(gs[0])\n",
    "\n",
    "xc=np.arange(-2.5, 4., 0.5)\n",
    "width=0.15\n",
    "\n",
    "for s, g, c in zip(seasons, gaps, colors) :\n",
    "    cs2 = plt.bar(xc[:]-g, bin_count[s][:]*100./length, width,color=c, alpha=a, label = s)\n",
    "    \n",
    "# cs2 = plt.bar(xc[:]-0.4,Bnwdsp_jja[:]*100./length,width,color='crimson',alpha=0.8, label = 'JJA')\n",
    "# cs2 = plt.bar(xc[:]-0.3,Bnwdsp_son[:]*100./length,width,color='orange',alpha=0.8, label='SON')\n",
    "# cs2 = plt.bar(xc[:]-0.2,Bnwdsp_djf[:]*100./length,width,color='royalblue',alpha=0.8, label='DJF')\n",
    "# cs2 = plt.bar(xc[:]-0.1,Bnwdsp_mam[:]*100./length,width,color='green',alpha=0.7, label='MAM')\n",
    "\n",
    "\n",
    "legend = plt.legend(frameon=False, ncol=len(seasons), columnspacing=0.5, handlelength=1,\n",
    "                    prop = {'family' : 'Nimbus Sans', 'size' : 18, 'weight' : 'bold'})\n",
    "\n",
    "for i, color in zip(range(0,len(seasons)), colors):\n",
    "    #legend.get_texts()[i].set_position((-2, 0.5))\n",
    "    text = legend.get_texts()[i]  # Get the first legend text\n",
    "    text.set_color(color) # text color\n",
    "    text.set_alpha(0.8) # text transparency\n",
    "    handle = legend.legendHandles[i]\n",
    "    handle.set_width(22) # rectangle width\n",
    "    handle.set_x(8) # Move the rectangle closer horizontally\n",
    "    \n",
    "plt.xlim(-2.7,3.7)\n",
    "plt.ylim(0,6.2)\n",
    "ax.set_xticks([-2.5,-2,-1.5,-1,-0.5,0,0.5,1,1.5,2,2.5,3,3.5])\n",
    "plt.xticks(fontsize=fs)\n",
    "plt.yticks(fontsize=fs)\n",
    "ax.set_ylabel('Frequency (%)',fontsize=fs)\n",
    "ax.set_xlabel('Standardized CRCM6-lifetime and 800-km averaged VORS',fontsize=fs)\n",
    "plt.grid(True,axis='x',linestyle=':')\n",
    "\n",
    "ax.text(0.92,0.52,'Mean : '+'{:,.2f}'.format(meanvors*1.e5)+'x$10^{-5}\\ \\mathrm{s}^{-1}$',\n",
    "        color='k',transform=ax.transAxes,ha='right',fontsize=fs)\n",
    "ax.text(0.92,0.40,'$\\sigma$  : '+'{:,.2f}'.format(sigmvors*1.e5)+'x$10^{-5}\\ \\mathrm{s}^{-1}$',\n",
    "        color='k',transform=ax.transAxes,ha='right',fontsize=fs)\n",
    "\n",
    "plt.subplots_adjust(wspace=0.2, hspace=0.2)\n",
    "#plt.savefig('/pampa/cloutier/fig/freq_dist_std_vors800.png', dpi=300, bbox_inches='tight')\n",
    "plt.show()"
   ]
  },
  {
   "cell_type": "code",
   "execution_count": null,
   "id": "latter-banner",
   "metadata": {},
   "outputs": [],
   "source": []
  }
 ],
 "metadata": {
  "kernelspec": {
   "display_name": "Python 3",
   "language": "python",
   "name": "python3"
  },
  "language_info": {
   "codemirror_mode": {
    "name": "ipython",
    "version": 3
   },
   "file_extension": ".py",
   "mimetype": "text/x-python",
   "name": "python",
   "nbconvert_exporter": "python",
   "pygments_lexer": "ipython3",
   "version": "3.8.6"
  }
 },
 "nbformat": 4,
 "nbformat_minor": 5
}
