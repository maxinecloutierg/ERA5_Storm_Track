{
 "cells": [
  {
   "cell_type": "code",
   "execution_count": 1,
   "id": "labeled-pittsburgh",
   "metadata": {},
   "outputs": [],
   "source": [
    "import pandas as pd\n",
    "import math\n",
    "import matplotlib.pyplot as plt\n",
    "from mpl_toolkits.basemap import Basemap\n",
    "import numpy as np\n",
    "import xarray as xr"
   ]
  },
  {
   "cell_type": "code",
   "execution_count": 117,
   "id": "further-soviet",
   "metadata": {
    "scrolled": true
   },
   "outputs": [],
   "source": [
    "# open catalogue dataset\n",
    "df = pd.read_csv('/home/data/ReAnalysis/ERA5/Storm_analysis/NAECv1/NAEC_1979_2020_v1.csv')\n",
    "\n",
    "# open catalogue that contains storm that were active for more than 24h\n",
    "# more in CRCM6 domain\n",
    "df24 = pd.read_csv('/pampa/cloutier/etc_24_nna.csv')\n",
    "\n",
    "# open netcdf mask file\n",
    "file = '/pampa/picart/Masks/mask_GEM5_ERA5grid'\n",
    "data = xr.open_dataset(file)\n",
    "\n",
    "# export netcdf to dataframe\n",
    "mask = data.to_dataframe()\n",
    "\n",
    "# drop index lat lon, but keep columns\n",
    "mask = mask.reset_index()\n",
    "\n",
    "# keep in mask values where HU = true\n",
    "maskT = mask.loc[mask.HU != False]"
   ]
  },
  {
   "cell_type": "markdown",
   "id": "appointed-andorra",
   "metadata": {},
   "source": [
    "### Storm track density"
   ]
  },
  {
   "cell_type": "code",
   "execution_count": 2,
   "id": "transsexual-movement",
   "metadata": {},
   "outputs": [],
   "source": [
    "# Define function to calculate distance between two points using Haversine formula\n",
    "# Haversine package ?\n",
    "def calculate_distance(lat1, lon1, lat2, lon2):\n",
    "    # Earth radius in kilometers\n",
    "    earth_radius = 6371\n",
    "\n",
    "    # Convert latitude and longitude to radians\n",
    "    lat1_rad = math.radians(lat1)\n",
    "    lon1_rad = math.radians(lon1)\n",
    "    lat2_rad = math.radians(lat2)\n",
    "    lon2_rad = math.radians(lon2)\n",
    "\n",
    "    # Calculate differences\n",
    "    dlat = lat2_rad - lat1_rad\n",
    "    dlon = lon2_rad - lon1_rad\n",
    "\n",
    "    # Haversine formula\n",
    "    a = math.sin(dlat / 2) ** 2 + math.cos(lat1_rad) * math.cos(lat2_rad) * math.sin(dlon / 2) ** 2\n",
    "    c = 2 * math.atan2(math.sqrt(a), math.sqrt(1 - a))\n",
    "\n",
    "    # Calculate distance in kilometers\n",
    "    distance = earth_radius * c\n",
    "\n",
    "    return distance"
   ]
  },
  {
   "cell_type": "code",
   "execution_count": 98,
   "id": "mysterious-context",
   "metadata": {},
   "outputs": [],
   "source": [
    "df = pd.read_csv('/pampa/cloutier/density.csv')\n",
    "mam = df.loc[df.season == 'MAM']"
   ]
  },
  {
   "cell_type": "code",
   "execution_count": 101,
   "id": "vertical-chess",
   "metadata": {},
   "outputs": [],
   "source": [
    "# test de la densité avec seulement MAM\n",
    "# Avec la moyenne pas bonne de 250km\n",
    "r = 2.25\n",
    "mam_density = {} # will contain the grid point and density\n",
    "\n",
    "# iterate through all grid point\n",
    "for _, row in mam.iterrows() : \n",
    "    track = {} #  will contain the year and storm id of the grid points found\n",
    "    lat1 = row['latitude'] \n",
    "    lon1 = row['longitude'] \n",
    "\n",
    "    # restricting the research in a 2.5 x 2.5deg square\n",
    "    neighbors = mam[\n",
    "        (mam['latitude'] >= lat1 - r) & (mam['latitude'] <= lat1 + r) &\n",
    "        (mam['longitude'] >= lon1 - r) & (mam['longitude'] <= lon1 + r)\n",
    "        ]\n",
    "\n",
    "    # Find the grid points that are within a 250km radius \n",
    "    for _, row in neighbors.iterrows():\n",
    "        lat2 = row['latitude'] \n",
    "        lon2 = row['longitude'] \n",
    "        storm_count = row['storm_count']\n",
    "        avgvors = row['avgVORSmax']\n",
    "\n",
    "        # calculate distance between grid points\n",
    "        distance = calculate_distance(lat1, lon1, lat2, lon2)\n",
    "\n",
    "        # add year and storm_id of grid points that are within the radius\n",
    "        if distance <= 250 : \n",
    "            track['storm_count'] = track.get('storm_count', []) + [storm_count]\n",
    "\n",
    "    # turn track dictionnary into dataframe and count the unique occurence of \n",
    "    # every storm for each year\n",
    "    track_df = pd.DataFrame(data = track)\n",
    "    #track_df = track_df.groupby('year')['storm_id'].nunique()\n",
    "\n",
    "    # number of storm per season in average\n",
    "    average = track_df['storm_count'].mean()\n",
    "\n",
    "    # add coord and average density\n",
    "    mam_density['lat'] = mam_density.get('lat', []) + [lat1]\n",
    "    mam_density['lon'] = mam_density.get('lon', []) + [lon1]\n",
    "    mam_density['storm_count'] = mam_density.get('storm_count', []) + [average]\n",
    "    mam_density['avgvors'] = mam_density.get('avgvors', []) + [avgvors]\n",
    "\n",
    "# transfort m_density into dataframe and save as csv\n",
    "df_density = pd.DataFrame(data = mam_density)\n",
    "df_density.to_csv('/pampa/cloutier/test_densite_mam.csv')"
   ]
  },
  {
   "cell_type": "code",
   "execution_count": 7,
   "id": "absent-organizer",
   "metadata": {},
   "outputs": [],
   "source": [
    "import pandas as pd\n",
    "test = pd.read_csv('/pampa/cloutier/densite_mam_one_gp.csv')"
   ]
  },
  {
   "cell_type": "code",
   "execution_count": 8,
   "id": "neither-builder",
   "metadata": {},
   "outputs": [
    {
     "data": {
      "text/html": [
       "<div>\n",
       "<style scoped>\n",
       "    .dataframe tbody tr th:only-of-type {\n",
       "        vertical-align: middle;\n",
       "    }\n",
       "\n",
       "    .dataframe tbody tr th {\n",
       "        vertical-align: top;\n",
       "    }\n",
       "\n",
       "    .dataframe thead th {\n",
       "        text-align: right;\n",
       "    }\n",
       "</style>\n",
       "<table border=\"1\" class=\"dataframe\">\n",
       "  <thead>\n",
       "    <tr style=\"text-align: right;\">\n",
       "      <th></th>\n",
       "      <th>Unnamed: 0</th>\n",
       "      <th>lat</th>\n",
       "      <th>lon</th>\n",
       "      <th>storm_count</th>\n",
       "    </tr>\n",
       "  </thead>\n",
       "  <tbody>\n",
       "    <tr>\n",
       "      <th>0</th>\n",
       "      <td>0</td>\n",
       "      <td>49.0</td>\n",
       "      <td>281.0</td>\n",
       "      <td>6.0</td>\n",
       "    </tr>\n",
       "  </tbody>\n",
       "</table>\n",
       "</div>"
      ],
      "text/plain": [
       "   Unnamed: 0   lat    lon  storm_count\n",
       "0           0  49.0  281.0          6.0"
      ]
     },
     "execution_count": 8,
     "metadata": {},
     "output_type": "execute_result"
    }
   ],
   "source": [
    "test"
   ]
  },
  {
   "cell_type": "code",
   "execution_count": null,
   "id": "disciplinary-faith",
   "metadata": {},
   "outputs": [],
   "source": []
  }
 ],
 "metadata": {
  "kernelspec": {
   "display_name": "Python 3",
   "language": "python",
   "name": "python3"
  },
  "language_info": {
   "codemirror_mode": {
    "name": "ipython",
    "version": 3
   },
   "file_extension": ".py",
   "mimetype": "text/x-python",
   "name": "python",
   "nbconvert_exporter": "python",
   "pygments_lexer": "ipython3",
   "version": "3.8.6"
  }
 },
 "nbformat": 4,
 "nbformat_minor": 5
}
