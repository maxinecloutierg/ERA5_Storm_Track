{
 "cells": [
  {
   "cell_type": "code",
   "execution_count": 219,
   "id": "labeled-pittsburgh",
   "metadata": {},
   "outputs": [],
   "source": [
    "import pandas as pd\n",
    "import math\n",
    "import matplotlib.pyplot as plt\n",
    "from mpl_toolkits.basemap import Basemap\n",
    "import numpy as np\n",
    "import xarray as xr"
   ]
  },
  {
   "cell_type": "code",
   "execution_count": 117,
   "id": "further-soviet",
   "metadata": {
    "scrolled": true
   },
   "outputs": [],
   "source": [
    "# open catalogue dataset\n",
    "df = pd.read_csv('/home/data/ReAnalysis/ERA5/Storm_analysis/NAECv1/NAEC_1979_2020_v1.csv')\n",
    "\n",
    "# open catalogue that contains storm that were active for more than 24h\n",
    "# more in CRCM6 domain\n",
    "df24 = pd.read_csv('/pampa/cloutier/etc_24_nna.csv')\n",
    "\n",
    "# open netcdf mask file\n",
    "file = '/pampa/picart/Masks/mask_GEM5_ERA5grid'\n",
    "data = xr.open_dataset(file)\n",
    "\n",
    "# export netcdf to dataframe\n",
    "mask = data.to_dataframe()\n",
    "\n",
    "# drop index lat lon, but keep columns\n",
    "mask = mask.reset_index()\n",
    "\n",
    "# keep in mask values where HU = true\n",
    "maskT = mask.loc[mask.HU != False]\n",
    "\n",
    "# open catalogue that contains storm that were active for more than 24h in CRCM domain \n",
    "# for each season\n",
    "djf = pd.read_csv('/pampa/cloutier/etc_24_nna_djf.csv')\n",
    "mam = pd.read_csv('/pampa/cloutier/etc_24_nna_mam.csv')\n",
    "jja = pd.read_csv('/pampa/cloutier/etc_24_nna_jja.csv')\n",
    "son = pd.read_csv('/pampa/cloutier/etc_24_nna_son.csv')"
   ]
  },
  {
   "cell_type": "markdown",
   "id": "appointed-andorra",
   "metadata": {},
   "source": [
    "### Storm track density"
   ]
  },
  {
   "cell_type": "code",
   "execution_count": 157,
   "id": "transsexual-movement",
   "metadata": {},
   "outputs": [],
   "source": [
    "# Define function to calculate distance between two points using Haversine formula\n",
    "# Haversine package ?\n",
    "def calculate_distance(lat1, lon1, lat2, lon2):\n",
    "    # Earth radius in kilometers\n",
    "    earth_radius = 6371\n",
    "\n",
    "    # Convert latitude and longitude to radians\n",
    "    lat1_rad = math.radians(lat1)\n",
    "    lon1_rad = math.radians(lon1)\n",
    "    lat2_rad = math.radians(lat2)\n",
    "    lon2_rad = math.radians(lon2)\n",
    "\n",
    "    # Calculate differences\n",
    "    dlat = lat2_rad - lat1_rad\n",
    "    dlon = lon2_rad - lon1_rad\n",
    "\n",
    "    # Haversine formula\n",
    "    a = math.sin(dlat / 2) ** 2 + math.cos(lat1_rad) * math.cos(lat2_rad) * math.sin(dlon / 2) ** 2\n",
    "    c = 2 * math.atan2(math.sqrt(a), math.sqrt(1 - a))\n",
    "\n",
    "    # Calculate distance in kilometers\n",
    "    distance = earth_radius * c\n",
    "\n",
    "    return distance"
   ]
  },
  {
   "cell_type": "code",
   "execution_count": 374,
   "id": "coupled-strand",
   "metadata": {},
   "outputs": [
    {
     "ename": "KeyboardInterrupt",
     "evalue": "",
     "output_type": "error",
     "traceback": [
      "\u001b[0;31m---------------------------------------------------------------------------\u001b[0m",
      "\u001b[0;31mKeyboardInterrupt\u001b[0m                         Traceback (most recent call last)",
      "\u001b[0;32m<ipython-input-374-dc6e6db0c210>\u001b[0m in \u001b[0;36m<module>\u001b[0;34m\u001b[0m\n\u001b[1;32m     24\u001b[0m             \u001b[0mlat2\u001b[0m \u001b[0;34m=\u001b[0m \u001b[0mrow\u001b[0m\u001b[0;34m[\u001b[0m\u001b[0;34m'latitude'\u001b[0m\u001b[0;34m]\u001b[0m\u001b[0;34m\u001b[0m\u001b[0;34m\u001b[0m\u001b[0m\n\u001b[1;32m     25\u001b[0m             \u001b[0mlon2\u001b[0m \u001b[0;34m=\u001b[0m \u001b[0mrow\u001b[0m\u001b[0;34m[\u001b[0m\u001b[0;34m'longitude'\u001b[0m\u001b[0;34m]\u001b[0m\u001b[0;34m\u001b[0m\u001b[0;34m\u001b[0m\u001b[0m\n\u001b[0;32m---> 26\u001b[0;31m             \u001b[0myear\u001b[0m \u001b[0;34m=\u001b[0m \u001b[0mstr\u001b[0m\u001b[0;34m(\u001b[0m\u001b[0mrow\u001b[0m\u001b[0;34m[\u001b[0m\u001b[0;34m'datetime'\u001b[0m\u001b[0;34m]\u001b[0m\u001b[0;34m)\u001b[0m\u001b[0;34m[\u001b[0m\u001b[0;34m:\u001b[0m\u001b[0;36m4\u001b[0m\u001b[0;34m]\u001b[0m\u001b[0;34m\u001b[0m\u001b[0;34m\u001b[0m\u001b[0m\n\u001b[0m\u001b[1;32m     27\u001b[0m             \u001b[0mstorm_id\u001b[0m \u001b[0;34m=\u001b[0m \u001b[0mrow\u001b[0m\u001b[0;34m[\u001b[0m\u001b[0;34m'storm'\u001b[0m\u001b[0;34m]\u001b[0m\u001b[0;34m\u001b[0m\u001b[0;34m\u001b[0m\u001b[0m\n\u001b[1;32m     28\u001b[0m \u001b[0;34m\u001b[0m\u001b[0m\n",
      "\u001b[0;32m/sca/compilers_and_tools/python/miniconda3/envs/base_plus/lib/python3.8/site-packages/pandas/core/series.py\u001b[0m in \u001b[0;36m__getitem__\u001b[0;34m(self, key)\u001b[0m\n\u001b[1;32m    849\u001b[0m \u001b[0;34m\u001b[0m\u001b[0m\n\u001b[1;32m    850\u001b[0m         \u001b[0;32melif\u001b[0m \u001b[0mkey_is_scalar\u001b[0m\u001b[0;34m:\u001b[0m\u001b[0;34m\u001b[0m\u001b[0;34m\u001b[0m\u001b[0m\n\u001b[0;32m--> 851\u001b[0;31m             \u001b[0;32mreturn\u001b[0m \u001b[0mself\u001b[0m\u001b[0;34m.\u001b[0m\u001b[0m_get_value\u001b[0m\u001b[0;34m(\u001b[0m\u001b[0mkey\u001b[0m\u001b[0;34m)\u001b[0m\u001b[0;34m\u001b[0m\u001b[0;34m\u001b[0m\u001b[0m\n\u001b[0m\u001b[1;32m    852\u001b[0m \u001b[0;34m\u001b[0m\u001b[0m\n\u001b[1;32m    853\u001b[0m         \u001b[0;32mif\u001b[0m \u001b[0mis_hashable\u001b[0m\u001b[0;34m(\u001b[0m\u001b[0mkey\u001b[0m\u001b[0;34m)\u001b[0m\u001b[0;34m:\u001b[0m\u001b[0;34m\u001b[0m\u001b[0;34m\u001b[0m\u001b[0m\n",
      "\u001b[0;32m/sca/compilers_and_tools/python/miniconda3/envs/base_plus/lib/python3.8/site-packages/pandas/core/series.py\u001b[0m in \u001b[0;36m_get_value\u001b[0;34m(self, label, takeable)\u001b[0m\n\u001b[1;32m    958\u001b[0m         \u001b[0;31m# Similar to Index.get_value, but we do not fall back to positional\u001b[0m\u001b[0;34m\u001b[0m\u001b[0;34m\u001b[0m\u001b[0;34m\u001b[0m\u001b[0m\n\u001b[1;32m    959\u001b[0m         \u001b[0mloc\u001b[0m \u001b[0;34m=\u001b[0m \u001b[0mself\u001b[0m\u001b[0;34m.\u001b[0m\u001b[0mindex\u001b[0m\u001b[0;34m.\u001b[0m\u001b[0mget_loc\u001b[0m\u001b[0;34m(\u001b[0m\u001b[0mlabel\u001b[0m\u001b[0;34m)\u001b[0m\u001b[0;34m\u001b[0m\u001b[0;34m\u001b[0m\u001b[0m\n\u001b[0;32m--> 960\u001b[0;31m         \u001b[0;32mreturn\u001b[0m \u001b[0mself\u001b[0m\u001b[0;34m.\u001b[0m\u001b[0mindex\u001b[0m\u001b[0;34m.\u001b[0m\u001b[0m_get_values_for_loc\u001b[0m\u001b[0;34m(\u001b[0m\u001b[0mself\u001b[0m\u001b[0;34m,\u001b[0m \u001b[0mloc\u001b[0m\u001b[0;34m,\u001b[0m \u001b[0mlabel\u001b[0m\u001b[0;34m)\u001b[0m\u001b[0;34m\u001b[0m\u001b[0;34m\u001b[0m\u001b[0m\n\u001b[0m\u001b[1;32m    961\u001b[0m \u001b[0;34m\u001b[0m\u001b[0m\n\u001b[1;32m    962\u001b[0m     \u001b[0;32mdef\u001b[0m \u001b[0m__setitem__\u001b[0m\u001b[0;34m(\u001b[0m\u001b[0mself\u001b[0m\u001b[0;34m,\u001b[0m \u001b[0mkey\u001b[0m\u001b[0;34m,\u001b[0m \u001b[0mvalue\u001b[0m\u001b[0;34m)\u001b[0m\u001b[0;34m:\u001b[0m\u001b[0;34m\u001b[0m\u001b[0;34m\u001b[0m\u001b[0m\n",
      "\u001b[0;32m/sca/compilers_and_tools/python/miniconda3/envs/base_plus/lib/python3.8/site-packages/pandas/core/indexes/base.py\u001b[0m in \u001b[0;36m_get_values_for_loc\u001b[0;34m(self, series, loc, key)\u001b[0m\n\u001b[1;32m   4853\u001b[0m         \"\"\"\n\u001b[1;32m   4854\u001b[0m         \u001b[0;32mif\u001b[0m \u001b[0mis_integer\u001b[0m\u001b[0;34m(\u001b[0m\u001b[0mloc\u001b[0m\u001b[0;34m)\u001b[0m\u001b[0;34m:\u001b[0m\u001b[0;34m\u001b[0m\u001b[0;34m\u001b[0m\u001b[0m\n\u001b[0;32m-> 4855\u001b[0;31m             \u001b[0;32mreturn\u001b[0m \u001b[0mseries\u001b[0m\u001b[0;34m.\u001b[0m\u001b[0m_values\u001b[0m\u001b[0;34m[\u001b[0m\u001b[0mloc\u001b[0m\u001b[0;34m]\u001b[0m\u001b[0;34m\u001b[0m\u001b[0;34m\u001b[0m\u001b[0m\n\u001b[0m\u001b[1;32m   4856\u001b[0m \u001b[0;34m\u001b[0m\u001b[0m\n\u001b[1;32m   4857\u001b[0m         \u001b[0;32mreturn\u001b[0m \u001b[0mseries\u001b[0m\u001b[0;34m.\u001b[0m\u001b[0miloc\u001b[0m\u001b[0;34m[\u001b[0m\u001b[0mloc\u001b[0m\u001b[0;34m]\u001b[0m\u001b[0;34m\u001b[0m\u001b[0;34m\u001b[0m\u001b[0m\n",
      "\u001b[0;32m/sca/compilers_and_tools/python/miniconda3/envs/base_plus/lib/python3.8/site-packages/pandas/core/series.py\u001b[0m in \u001b[0;36m_values\u001b[0;34m(self)\u001b[0m\n\u001b[1;32m    581\u001b[0m         \u001b[0;32mreturn\u001b[0m \u001b[0mself\u001b[0m\u001b[0;34m.\u001b[0m\u001b[0m_mgr\u001b[0m\u001b[0;34m.\u001b[0m\u001b[0mexternal_values\u001b[0m\u001b[0;34m(\u001b[0m\u001b[0;34m)\u001b[0m\u001b[0;34m\u001b[0m\u001b[0;34m\u001b[0m\u001b[0m\n\u001b[1;32m    582\u001b[0m \u001b[0;34m\u001b[0m\u001b[0m\n\u001b[0;32m--> 583\u001b[0;31m     \u001b[0;34m@\u001b[0m\u001b[0mproperty\u001b[0m\u001b[0;34m\u001b[0m\u001b[0;34m\u001b[0m\u001b[0m\n\u001b[0m\u001b[1;32m    584\u001b[0m     \u001b[0;32mdef\u001b[0m \u001b[0m_values\u001b[0m\u001b[0;34m(\u001b[0m\u001b[0mself\u001b[0m\u001b[0;34m)\u001b[0m\u001b[0;34m:\u001b[0m\u001b[0;34m\u001b[0m\u001b[0;34m\u001b[0m\u001b[0m\n\u001b[1;32m    585\u001b[0m         \"\"\"\n",
      "\u001b[0;31mKeyboardInterrupt\u001b[0m: "
     ]
    }
   ],
   "source": [
    "r = 2.25\n",
    "i = 0\n",
    "season = [djf, mam, jja, son]\n",
    "season_txt = ['djf', 'mam', 'jja', 'son']\n",
    "\n",
    "for m in season : \n",
    "    \n",
    "    m_density = {} # will contain the grid point and density\n",
    "\n",
    "    # iterate through all grid point\n",
    "    for _, row in m.iterrows() : \n",
    "        track = {} #  will contain the year and storm id of the grid points found\n",
    "        lat1 = row['latitude'] \n",
    "        lon1 = row['longitude'] \n",
    "        \n",
    "        # restricting the research in a 2.5 x 2.5deg square\n",
    "        neighbors = m[\n",
    "            (m['latitude'] >= lat1 - r) & (m['latitude'] <= lat1 + r) &\n",
    "            (m['longitude'] >= lon1 - r) & (m['longitude'] <= lon1 + r)\n",
    "            ]\n",
    "\n",
    "        # Find the grid points that are within a 250km radius \n",
    "        for _, row in neighbors.iterrows():\n",
    "            lat2 = row['latitude'] \n",
    "            lon2 = row['longitude'] \n",
    "            year = str(row['datetime'])[:4]\n",
    "            storm_id = row['storm']\n",
    "\n",
    "            # calculate distance between grid points\n",
    "            distance = calculate_distance(lat1, lon1, lat2, lon2)\n",
    "            \n",
    "            # add year and storm_id of grid points that are within the radius\n",
    "            if distance <= 250 : \n",
    "                track['year'] = track.get('year', []) + [year]\n",
    "                track['storm_id'] = track.get('storm_id', []) + [storm_id]\n",
    "\n",
    "        # turn track dictionnary into dataframe and count the unique occurence of \n",
    "        # every storm for each year\n",
    "        track_df = pd.DataFrame(data = track)\n",
    "        track_df = track_df.groupby('year')['storm_id'].nunique()\n",
    "\n",
    "        # number of storm per season in average\n",
    "        average = track_df.mean()\n",
    "        \n",
    "        # add coord and average density\n",
    "        m_density['lat'] = m_density.get('lat', []) + [lat1]\n",
    "        m_density['lon'] = m_density.get('lon', []) + [lon1]\n",
    "        m_density['avg_per_season'] = m_density.get('avg_per_season', []) + [average]\n",
    "\n",
    "    # transfort m_density into dataframe and save as csv\n",
    "    df_density = pd.DataFrame(data = m_density)\n",
    "    df_density.to_csv('/pampa/cloutier/' + season_txt[i] + '_density.csv')\n",
    "    i += 1"
   ]
  },
  {
   "cell_type": "code",
   "execution_count": 371,
   "id": "supposed-affairs",
   "metadata": {},
   "outputs": [
    {
     "name": "stdout",
     "output_type": "stream",
     "text": [
      "djf\n",
      "mam\n",
      "jja\n",
      "son\n"
     ]
    }
   ],
   "source": [
    "season_txt = ['djf', 'mam', 'jja', 'son']\n",
    "for i in (0,1,2,3) : \n",
    "    print(season_txt[i])"
   ]
  },
  {
   "cell_type": "code",
   "execution_count": 364,
   "id": "provincial-currency",
   "metadata": {},
   "outputs": [
    {
     "ename": "KeyboardInterrupt",
     "evalue": "",
     "output_type": "error",
     "traceback": [
      "\u001b[0;31m---------------------------------------------------------------------------\u001b[0m",
      "\u001b[0;31mKeyboardInterrupt\u001b[0m                         Traceback (most recent call last)",
      "\u001b[0;32m<ipython-input-364-6291d6386fdf>\u001b[0m in \u001b[0;36m<module>\u001b[0;34m\u001b[0m\n\u001b[1;32m     17\u001b[0m         \u001b[0;31m# Find the grid points that are within a 250km radius\u001b[0m\u001b[0;34m\u001b[0m\u001b[0;34m\u001b[0m\u001b[0;34m\u001b[0m\u001b[0m\n\u001b[1;32m     18\u001b[0m         \u001b[0;32mfor\u001b[0m \u001b[0m_\u001b[0m\u001b[0;34m,\u001b[0m \u001b[0mrow\u001b[0m \u001b[0;32min\u001b[0m \u001b[0mneighbors\u001b[0m\u001b[0;34m.\u001b[0m\u001b[0miterrows\u001b[0m\u001b[0;34m(\u001b[0m\u001b[0;34m)\u001b[0m\u001b[0;34m:\u001b[0m\u001b[0;34m\u001b[0m\u001b[0;34m\u001b[0m\u001b[0m\n\u001b[0;32m---> 19\u001b[0;31m             \u001b[0mlat2\u001b[0m \u001b[0;34m=\u001b[0m \u001b[0mrow\u001b[0m\u001b[0;34m[\u001b[0m\u001b[0;34m'latitude'\u001b[0m\u001b[0;34m]\u001b[0m\u001b[0;34m\u001b[0m\u001b[0;34m\u001b[0m\u001b[0m\n\u001b[0m\u001b[1;32m     20\u001b[0m             \u001b[0mlon2\u001b[0m \u001b[0;34m=\u001b[0m \u001b[0mrow\u001b[0m\u001b[0;34m[\u001b[0m\u001b[0;34m'longitude'\u001b[0m\u001b[0;34m]\u001b[0m\u001b[0;34m\u001b[0m\u001b[0;34m\u001b[0m\u001b[0m\n\u001b[1;32m     21\u001b[0m             \u001b[0myear\u001b[0m \u001b[0;34m=\u001b[0m \u001b[0mstr\u001b[0m\u001b[0;34m(\u001b[0m\u001b[0mrow\u001b[0m\u001b[0;34m[\u001b[0m\u001b[0;34m'datetime'\u001b[0m\u001b[0;34m]\u001b[0m\u001b[0;34m)\u001b[0m\u001b[0;34m[\u001b[0m\u001b[0;34m:\u001b[0m\u001b[0;36m4\u001b[0m\u001b[0;34m]\u001b[0m\u001b[0;34m\u001b[0m\u001b[0;34m\u001b[0m\u001b[0m\n",
      "\u001b[0;32m/sca/compilers_and_tools/python/miniconda3/envs/base_plus/lib/python3.8/site-packages/pandas/core/series.py\u001b[0m in \u001b[0;36m__getitem__\u001b[0;34m(self, key)\u001b[0m\n\u001b[1;32m    849\u001b[0m \u001b[0;34m\u001b[0m\u001b[0m\n\u001b[1;32m    850\u001b[0m         \u001b[0;32melif\u001b[0m \u001b[0mkey_is_scalar\u001b[0m\u001b[0;34m:\u001b[0m\u001b[0;34m\u001b[0m\u001b[0;34m\u001b[0m\u001b[0m\n\u001b[0;32m--> 851\u001b[0;31m             \u001b[0;32mreturn\u001b[0m \u001b[0mself\u001b[0m\u001b[0;34m.\u001b[0m\u001b[0m_get_value\u001b[0m\u001b[0;34m(\u001b[0m\u001b[0mkey\u001b[0m\u001b[0;34m)\u001b[0m\u001b[0;34m\u001b[0m\u001b[0;34m\u001b[0m\u001b[0m\n\u001b[0m\u001b[1;32m    852\u001b[0m \u001b[0;34m\u001b[0m\u001b[0m\n\u001b[1;32m    853\u001b[0m         \u001b[0;32mif\u001b[0m \u001b[0mis_hashable\u001b[0m\u001b[0;34m(\u001b[0m\u001b[0mkey\u001b[0m\u001b[0;34m)\u001b[0m\u001b[0;34m:\u001b[0m\u001b[0;34m\u001b[0m\u001b[0;34m\u001b[0m\u001b[0m\n",
      "\u001b[0;32m/sca/compilers_and_tools/python/miniconda3/envs/base_plus/lib/python3.8/site-packages/pandas/core/series.py\u001b[0m in \u001b[0;36m_get_value\u001b[0;34m(self, label, takeable)\u001b[0m\n\u001b[1;32m    958\u001b[0m         \u001b[0;31m# Similar to Index.get_value, but we do not fall back to positional\u001b[0m\u001b[0;34m\u001b[0m\u001b[0;34m\u001b[0m\u001b[0;34m\u001b[0m\u001b[0m\n\u001b[1;32m    959\u001b[0m         \u001b[0mloc\u001b[0m \u001b[0;34m=\u001b[0m \u001b[0mself\u001b[0m\u001b[0;34m.\u001b[0m\u001b[0mindex\u001b[0m\u001b[0;34m.\u001b[0m\u001b[0mget_loc\u001b[0m\u001b[0;34m(\u001b[0m\u001b[0mlabel\u001b[0m\u001b[0;34m)\u001b[0m\u001b[0;34m\u001b[0m\u001b[0;34m\u001b[0m\u001b[0m\n\u001b[0;32m--> 960\u001b[0;31m         \u001b[0;32mreturn\u001b[0m \u001b[0mself\u001b[0m\u001b[0;34m.\u001b[0m\u001b[0mindex\u001b[0m\u001b[0;34m.\u001b[0m\u001b[0m_get_values_for_loc\u001b[0m\u001b[0;34m(\u001b[0m\u001b[0mself\u001b[0m\u001b[0;34m,\u001b[0m \u001b[0mloc\u001b[0m\u001b[0;34m,\u001b[0m \u001b[0mlabel\u001b[0m\u001b[0;34m)\u001b[0m\u001b[0;34m\u001b[0m\u001b[0;34m\u001b[0m\u001b[0m\n\u001b[0m\u001b[1;32m    961\u001b[0m \u001b[0;34m\u001b[0m\u001b[0m\n\u001b[1;32m    962\u001b[0m     \u001b[0;32mdef\u001b[0m \u001b[0m__setitem__\u001b[0m\u001b[0;34m(\u001b[0m\u001b[0mself\u001b[0m\u001b[0;34m,\u001b[0m \u001b[0mkey\u001b[0m\u001b[0;34m,\u001b[0m \u001b[0mvalue\u001b[0m\u001b[0;34m)\u001b[0m\u001b[0;34m:\u001b[0m\u001b[0;34m\u001b[0m\u001b[0;34m\u001b[0m\u001b[0m\n",
      "\u001b[0;31mKeyboardInterrupt\u001b[0m: "
     ]
    }
   ],
   "source": [
    "# test de la densité avec seulement SON\n",
    "r = 2.25\n",
    "son_density = {} # will contain the grid point and density\n",
    "\n",
    "# iterate through all grid point\n",
    "for _, row in son.iterrows() : \n",
    "    track = {} #  will contain the year and storm id of the grid points found\n",
    "    lat1 = row['latitude'] \n",
    "    lon1 = row['longitude'] \n",
    "\n",
    "    # restricting the research in a 2.5 x 2.5deg square\n",
    "    neighbors = son[\n",
    "        (son['latitude'] >= lat1 - r) & (son['latitude'] <= lat1 + r) &\n",
    "        (son['longitude'] >= lon1 - r) & (son['longitude'] <= lon1 + r)\n",
    "        ]\n",
    "\n",
    "    # Find the grid points that are within a 250km radius \n",
    "    for _, row in neighbors.iterrows():\n",
    "        lat2 = row['latitude'] \n",
    "        lon2 = row['longitude'] \n",
    "        year = str(row['datetime'])[:4]\n",
    "        storm_id = row['storm']\n",
    "\n",
    "        # calculate distance between grid points\n",
    "        distance = calculate_distance(lat1, lon1, lat2, lon2)\n",
    "\n",
    "        # add year and storm_id of grid points that are within the radius\n",
    "        if distance <= 250 : \n",
    "            track['year'] = track.get('year', []) + [year]\n",
    "            track['storm_id'] = track.get('storm_id', []) + [storm_id]\n",
    "\n",
    "    # turn track dictionnary into dataframe and count the unique occurence of \n",
    "    # every storm for each year\n",
    "    track_df = pd.DataFrame(data = track)\n",
    "    track_df = track_df.groupby('year')['storm_id'].nunique()\n",
    "\n",
    "    # number of storm per season in average\n",
    "    average = track_df.mean()\n",
    "\n",
    "    # add coord and average density\n",
    "    son_density['lat'] = son_density.get('lat', []) + [lat1]\n",
    "    son_density['lon'] = son_density.get('lon', []) + [lon1]\n",
    "    son_density['avg_per_season'] = m_density.get('avg_per_season', []) + [average]\n",
    "\n",
    "# transfort m_density into dataframe and save as csv\n",
    "df_density = pd.DataFrame(data = son_density)\n",
    "\n",
    "df.density_to.csv('/pampa/cloutier/test_son_density.csv')"
   ]
  }
 ],
 "metadata": {
  "kernelspec": {
   "display_name": "Python 3",
   "language": "python",
   "name": "python3"
  },
  "language_info": {
   "codemirror_mode": {
    "name": "ipython",
    "version": 3
   },
   "file_extension": ".py",
   "mimetype": "text/x-python",
   "name": "python",
   "nbconvert_exporter": "python",
   "pygments_lexer": "ipython3",
   "version": "3.8.6"
  }
 },
 "nbformat": 4,
 "nbformat_minor": 5
}
