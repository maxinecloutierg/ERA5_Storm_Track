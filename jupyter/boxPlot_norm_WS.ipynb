{
 "cells": [
  {
   "cell_type": "code",
   "execution_count": 1,
   "id": "respiratory-massage",
   "metadata": {},
   "outputs": [],
   "source": [
    "import pandas as pd\n",
    "import xarray as xr\n",
    "import numpy as np\n",
    "\n",
    "# matplotlib import\n",
    "from matplotlib import pyplot as plt\n",
    "import matplotlib.colors as colors\n",
    "from matplotlib.colors import ListedColormap"
   ]
  },
  {
   "cell_type": "code",
   "execution_count": 2,
   "id": "drawn-pottery",
   "metadata": {},
   "outputs": [],
   "source": [
    "# import filtered ETCs\n",
    "fetc = pd.read_csv(\"/pampa/cloutier/storm_tracks/filtered/etc24_consec_v3.csv\")"
   ]
  },
  {
   "cell_type": "code",
   "execution_count": 31,
   "id": "demanding-teacher",
   "metadata": {},
   "outputs": [],
   "source": [
    "# get the average over the duration when the center was within the CRCM6 region\n",
    "fetc_true = fetc.loc[fetc.HU == True]\n",
    "szn_mean = fetc_true.groupby(['season', 'storm'])[['10WS_av08', '85WS_av08']].mean().reset_index()\n",
    "\n",
    "# get mean and std 10WS_av08 and 850WS_av08 for catalogue and filtered etcs\n",
    "mean_10 = szn_mean['10WS_av08'].mean()\n",
    "mean_85 = szn_mean['85WS_av08'].mean()\n",
    "std_10 = szn_mean['10WS_av08'].std()\n",
    "std_85 = szn_mean['85WS_av08'].std()\n",
    "\n",
    "# normalize the values\n",
    "szn_mean['n_85WS_av08'] = (szn_mean['85WS_av08'] - mean_85) / std_85\n",
    "szn_mean['n_10WS_av08'] = (szn_mean['10WS_av08'] - mean_10) / std_10"
   ]
  },
  {
   "cell_type": "code",
   "execution_count": 111,
   "id": "attempted-payday",
   "metadata": {},
   "outputs": [
    {
     "data": {
      "image/png": "[encoded data removed]",
      "text/plain": [
       "<Figure size 144x504 with 1 Axes>"
      ]
     },
     "metadata": {},
     "output_type": "display_data"
    },
    {
     "data": {
      "image/png": "[encoded data removed]",
      "text/plain": [
       "<Figure size 504x144 with 1 Axes>"
      ]
     },
     "metadata": {},
     "output_type": "display_data"
    }
   ],
   "source": [
    "colors = {'JJA': 'crimson', 'SON': 'orange', 'DJF': 'royalblue', 'MAM': 'g'}\n",
    "\n",
    "# Reorganize the seasons order\n",
    "season_order = ['JJA', 'SON', 'DJF', 'MAM']\n",
    "szn_mean['season'] = pd.Categorical(szn_mean['season'], categories=season_order, ordered=True)\n",
    "szn_mean = szn_mean.sort_values('season')\n",
    "\n",
    "boxplot10 = szn_mean.boxplot(by='season', column=['n_10WS_av08'], sym='', figsize=(2,7),\n",
    "                           grid=False, patch_artist=True, fontsize=16,\n",
    "                           medianprops = dict(color = \"white\", linewidth = 1.5),\n",
    "                           whiskerprops = dict(color = \"black\"))\n",
    "\n",
    "# Assign color for each box\n",
    "for season, box in zip(season_order, boxplot10.artists):\n",
    "    box.set(color=colors[season], linewidth=1.5)\n",
    "    box.set(facecolor=colors[season])\n",
    "\n",
    "# Remove automatic titles\n",
    "boxplot10.set_title('')\n",
    "boxplot10.set_xlabel('')\n",
    "boxplot10.set_ylabel('Standardized 10WS', fontsize=16)\n",
    "boxplot10.get_figure().suptitle('')\n",
    "\n",
    "# Add horizontal line\n",
    "plt.xticks(rotation=50)\n",
    "\n",
    "# Change x ticks colours\n",
    "plt.axhline(y=1, color='black', linestyle='dotted', linewidth = 2)\n",
    "tick_labels = boxplot10.get_xticklabels()\n",
    "for label, season in zip(tick_labels, season_order):\n",
    "    label.set_color(colors[season])\n",
    "\n",
    "plt.show()\n",
    "\n",
    "# Reorganize the seasons order\n",
    "season_order = ['MAM', 'DJF', 'SON', 'JJA']\n",
    "szn_mean['season'] = pd.Categorical(szn_mean['season'], categories=season_order, ordered=True)\n",
    "szn_mean = szn_mean.sort_values('season')\n",
    "\n",
    "boxplot85 = szn_mean.boxplot(by='season', column=['n_10WS_av08'], sym='', figsize=(7,2),\n",
    "                           grid=False, patch_artist=True, fontsize=16, vert=False,\n",
    "                           medianprops = dict(color = \"white\", linewidth = 1.5),\n",
    "                           whiskerprops = dict(color = \"black\"))\n",
    "\n",
    "# Assign color for each box\n",
    "for season, box in zip(season_order, boxplot85.artists):\n",
    "    box.set(color=colors[season], linewidth=1.5)\n",
    "    box.set(facecolor=colors[season])\n",
    "\n",
    "# Remove automatic titles\n",
    "boxplot85.set_title('')\n",
    "boxplot85.set_xlabel('Standardized 850WS', fontsize=16)\n",
    "boxplot85.get_figure().suptitle('')\n",
    "plt.xlim(-3, 5)\n",
    "\n",
    "# Add vertical line\n",
    "plt.axvline(x=1, color='black', linestyle='dotted', linewidth = 2)\n",
    "\n",
    "# Change x ticks colours\n",
    "tick_labels = boxplot85.get_yticklabels()\n",
    "for label, season in zip(tick_labels, season_order):\n",
    "    label.set_color(colors[season])\n",
    "    \n",
    "plt.show()"
   ]
  },
  {
   "cell_type": "code",
   "execution_count": null,
   "id": "disturbed-campus",
   "metadata": {},
   "outputs": [],
   "source": []
  }
 ],
 "metadata": {
  "kernelspec": {
   "display_name": "Python 3",
   "language": "python",
   "name": "python3"
  },
  "language_info": {
   "codemirror_mode": {
    "name": "ipython",
    "version": 3
   },
   "file_extension": ".py",
   "mimetype": "text/x-python",
   "name": "python",
   "nbconvert_exporter": "python",
   "pygments_lexer": "ipython3",
   "version": "3.8.6"
  }
 },
 "nbformat": 4,
 "nbformat_minor": 5
}
