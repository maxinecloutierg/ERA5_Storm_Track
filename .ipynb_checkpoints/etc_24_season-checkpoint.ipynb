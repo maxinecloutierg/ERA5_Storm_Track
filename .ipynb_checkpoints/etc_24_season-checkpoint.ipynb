{
 "cells": [
  {
   "cell_type": "code",
   "execution_count": 1,
   "id": "random-dallas",
   "metadata": {},
   "outputs": [],
   "source": [
    "import pandas as pd\n",
    "import math\n",
    "import matplotlib.pyplot as plt\n",
    "from mpl_toolkits.basemap import Basemap\n",
    "import numpy as np\n",
    "import xarray as xr"
   ]
  },
  {
   "cell_type": "code",
   "execution_count": 2,
   "id": "first-mentor",
   "metadata": {},
   "outputs": [],
   "source": [
    "# open catalogue dataset\n",
    "df = pd.read_csv('/home/data/ReAnalysis/ERA5/Storm_analysis/NAECv1/NAEC_1979_2020_v1.csv')\n",
    "\n",
    "# open netcdf mask file\n",
    "file = '/pampa/picart/Masks/mask_GEM5_ERA5grid'\n",
    "data = xr.open_dataset(file)\n",
    "\n",
    "# export netcdf to dataframe\n",
    "mask = data.to_dataframe()\n",
    "\n",
    "# drop index lat lon, but keep columns\n",
    "mask = mask.reset_index()\n",
    "\n",
    "# keep in mask values where HU = true\n",
    "maskT = mask.loc[mask.HU != False]"
   ]
  },
  {
   "cell_type": "markdown",
   "id": "awful-election",
   "metadata": {},
   "source": [
    "### Keep storms that were active in NNA for at least 24h"
   ]
  },
  {
   "cell_type": "code",
   "execution_count": null,
   "id": "clear-highland",
   "metadata": {},
   "outputs": [],
   "source": [
    "# Create a new dataframe to store the storms that were active \n",
    "# for more than 24h in the CRCM6 domain\n",
    "\n",
    "df24 = pd.DataFrame(columns=df.columns)\n",
    "\n",
    "# Iterate through each storm in the original dataframe\n",
    "for storm_id in df['storm'].unique():\n",
    "    storm_data = df[df['storm'] == storm_id]\n",
    "    count_domain = 0\n",
    "    \n",
    "#     # Check storm duration\n",
    "#     storm_duration = storm_data['lifetime'].max()\n",
    "\n",
    "#     if storm_duration >= 24:\n",
    "        # Check if storm location is within CRCM6 domain\n",
    "        # If so, count the number of grid points that are within that domain. \n",
    "        # If we have more than 24 points in the domain, the storm was active\n",
    "        # for more than 24 hours in the domain. \n",
    "    for index, row in storm_data.iterrows() : \n",
    "        lat = row['latitude']\n",
    "        lon = row['longitude']\n",
    "        if  (maskT[(maskT.lat == lat) & (maskT.lon == lon)].empty) == False :\n",
    "                count_domain += 1       \n",
    "    if count_domain > 24 : \n",
    "        df24 = df24.append(storm_data)\n",
    "            \n",
    "print(len(df24.groupby(['storm'])))\n",
    "\n",
    "# save df24 in csv\n",
    "df24.to_csv('/pampa/cloutier/etc_24_nna.csv')"
   ]
  },
  {
   "cell_type": "markdown",
   "id": "third-indication",
   "metadata": {},
   "source": [
    "### Extract ETC DataFrame for specific season"
   ]
  },
  {
   "cell_type": "code",
   "execution_count": null,
   "id": "phantom-thermal",
   "metadata": {},
   "outputs": [],
   "source": [
    "# extract month from datetime with (df.datetime//10000)%100 and apply conditionnal selection according the the needed months\n",
    "\n",
    "#    def get_season\n",
    "#    ARGS m1, m2, m3 (int) : The 3 wanted months \n",
    "#    RETURNS DataFrame of all the ETCs within the wanted season\n",
    "def get_season(m1, m2, m3) :\n",
    "    return df24.loc[((df.datetime//10000)%100 == m1) \n",
    "                    | ((df24.datetime//10000)%100 == m2) \n",
    "                    | ((df24.datetime//10000)%100 == m3)]\n",
    "\n",
    "jja = get_season(6,7,8)\n",
    "son = get_season(9,10,11)\n",
    "djf = get_season(12,1,2)\n",
    "mam = get_season(3,4,5)"
   ]
  }
 ],
 "metadata": {
  "kernelspec": {
   "display_name": "Python 3",
   "language": "python",
   "name": "python3"
  },
  "language_info": {
   "codemirror_mode": {
    "name": "ipython",
    "version": 3
   },
   "file_extension": ".py",
   "mimetype": "text/x-python",
   "name": "python",
   "nbconvert_exporter": "python",
   "pygments_lexer": "ipython3",
   "version": "3.8.6"
  }
 },
 "nbformat": 4,
 "nbformat_minor": 5
}
